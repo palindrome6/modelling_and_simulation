{
 "cells": [
  {
   "cell_type": "code",
   "execution_count": null,
   "metadata": {},
   "outputs": [],
   "source": [
    "# imports\n",
    "\n",
    "import pandas as pd\n",
    "import numpy as np\n",
    "import matplotlib.pyplot as plt\n",
    "from datetime import datetime\n",
    "from scipy import fftpack\n",
    "%pylab inline\n",
    "plt.style.use('seaborn-whitegrid')\n",
    "pylab.rcParams['figure.figsize'] = (22, 6)\n",
    "import matplotlib\n",
    "matplotlib.rcParams.update({'font.size': 20})"
   ]
  },
  {
   "cell_type": "code",
   "execution_count": null,
   "metadata": {
    "collapsed": true
   },
   "outputs": [],
   "source": [
    "df = pd.read_csv('Data/BMS/Rooms and HVAC/RCU middenhal.csv', delimiter=';', encoding='utf-8')"
   ]
  },
  {
   "cell_type": "code",
   "execution_count": null,
   "metadata": {
    "collapsed": true
   },
   "outputs": [],
   "source": [
    "df_temp = df[['Tijdstip', 'Gemiddelde ruimtetemp [°C] - RCU Middelhal 255 ()']]\n",
    "df_temp.is_copy = False\n",
    "df_temp.columns = ['Time', 'Temperature']"
   ]
  },
  {
   "cell_type": "code",
   "execution_count": null,
   "metadata": {
    "collapsed": true
   },
   "outputs": [],
   "source": [
    "df_temp.is_copy = False\n",
    "df_temp['Time'] = pd.to_datetime(df_temp['Time'], format=\"%d-%m-%Y %H:%M.%S\")\n",
    "\n",
    "df_temp['Temperature'] = [str(x).replace(',', '.') for x in df_temp['Temperature']]\n",
    "df_temp['Temperature'] = pd.to_numeric(df_temp['Temperature'], errors='coerce')"
   ]
  },
  {
   "cell_type": "code",
   "execution_count": null,
   "metadata": {
    "collapsed": true
   },
   "outputs": [],
   "source": [
    "df_temp.sort_values(['Time'], inplace=True)"
   ]
  },
  {
   "cell_type": "code",
   "execution_count": null,
   "metadata": {
    "collapsed": true
   },
   "outputs": [],
   "source": [
    "df_temp = df_temp.loc[df_temp['Time'] > datetime.datetime(2017, 10, 23, 9, 0, 0)]\n",
    "df_temp = df_temp.loc[df_temp['Time'] <= datetime.datetime(2018, 3, 8, 4, 52, 0)]"
   ]
  },
  {
   "cell_type": "code",
   "execution_count": null,
   "metadata": {},
   "outputs": [],
   "source": [
    "plt.plot(df_temp['Time'], df_temp['Temperature'], linestyle=':', marker='.')\n",
    "plt.title('Original signal in time domain')\n",
    "plt.xlabel('Time')\n",
    "plt.ylabel('Temperature (in celsius)')\n",
    "plt.show()"
   ]
  },
  {
   "cell_type": "code",
   "execution_count": null,
   "metadata": {
    "collapsed": true
   },
   "outputs": [],
   "source": [
    "demean = lambda df: df - df.mean()\n",
    "time = pd.DatetimeIndex(df_temp['Time'])\n",
    "grouped = df_temp.groupby([time.year, time.month, time.day])"
   ]
  },
  {
   "cell_type": "code",
   "execution_count": null,
   "metadata": {
    "collapsed": true
   },
   "outputs": [],
   "source": [
    "def normalize(row, mean):\n",
    "\n",
    "    return (row - mean)/mean\n",
    "\n",
    "def scale(row, mean):\n",
    "\n",
    "    return (row - mean)\n",
    "\n",
    "norm_df = pd.DataFrame()\n",
    "\n",
    "date_list = []\n",
    "mean_temp_list = []\n",
    "\n",
    "for name, group in grouped:\n",
    "    df_sub = pd.DataFrame(group)\n",
    "    date_list.append(name)\n",
    "    mean = df_sub['Temperature'].mean()\n",
    "    mean_temp_list.append(mean)\n",
    "    df_sub['Temperature_normalized'] = df_sub.apply(lambda row: normalize(row['Temperature'], mean), axis=1)\n",
    "    df_sub['Temperature_scaled'] = df_sub.apply(lambda row: scale(row['Temperature'], mean), axis=1)\n",
    "    norm_df = norm_df.append(df_sub)"
   ]
  },
  {
   "cell_type": "code",
   "execution_count": null,
   "metadata": {
    "scrolled": false
   },
   "outputs": [],
   "source": [
    "x_range =[(m*480)/(60*60*24) for m in range(1, len(norm_df['Temperature_normalized'])+1)] \n",
    "plt.plot(x_range, norm_df['Temperature_normalized'], linestyle=':', marker='.')\n",
    "plt.title('Signal normalized per day')\n",
    "plt.ylabel('Normalized Temperature')\n",
    "plt.xlabel('Time (days)')\n",
    "plt.show()"
   ]
  },
  {
   "cell_type": "code",
   "execution_count": null,
   "metadata": {
    "collapsed": true
   },
   "outputs": [],
   "source": [
    "mean1 = np.mean(mean_temp_list)\n",
    "new_mean_list = [(i-mean1)/mean1 for i in mean_temp_list]"
   ]
  },
  {
   "cell_type": "code",
   "execution_count": null,
   "metadata": {},
   "outputs": [],
   "source": [
    "pylab.rcParams['figure.figsize'] = (22, 6)\n",
    "plt.plot(range(1, len(mean_temp_list)+1), new_mean_list, linestyle=':', marker='.')\n",
    "plt.title('Mean temperature/ day')\n",
    "plt.ylabel('Temperature (in celsius)')\n",
    "plt.xlabel('Time (days)')\n",
    "plt.show()"
   ]
  },
  {
   "cell_type": "code",
   "execution_count": null,
   "metadata": {
    "collapsed": true
   },
   "outputs": [],
   "source": [
    "X_temp_norm = np.fft.fft(norm_df['Temperature_normalized'], norm=\"ortho\")\n",
    "X_temp_scaled = np.fft.fft(norm_df['Temperature_scaled'], norm=\"ortho\")\n",
    "X_temp_mean = np.fft.fft(new_mean_list, norm=\"ortho\")"
   ]
  },
  {
   "cell_type": "code",
   "execution_count": null,
   "metadata": {
    "collapsed": true
   },
   "outputs": [],
   "source": [
    "freqs_norm = np.fft.fftfreq(len(norm_df['Temperature_normalized'])) * (1/480)\n",
    "freqs_scaled = np.fft.fftfreq(len(norm_df['Temperature_scaled'])) * (1/480)\n",
    "freqs_mean = np.fft.fftfreq(len(mean_temp_list))"
   ]
  },
  {
   "cell_type": "code",
   "execution_count": null,
   "metadata": {
    "scrolled": false
   },
   "outputs": [],
   "source": [
    "pylab.rcParams['figure.figsize'] = (10, 7)\n",
    "plt.plot(freqs_norm, abs(X_temp_norm))\n",
    "plt.xlabel('Frequency')\n",
    "plt.title('DFT')"
   ]
  },
  {
   "cell_type": "code",
   "execution_count": null,
   "metadata": {},
   "outputs": [],
   "source": [
    "pylab.rcParams['figure.figsize'] = (10, 7)\n",
    "plt.plot(freqs_mean, abs(X_temp_mean))\n",
    "plt.xlabel('Frequency')\n",
    "plt.title('DFT')"
   ]
  },
  {
   "cell_type": "code",
   "execution_count": null,
   "metadata": {},
   "outputs": [],
   "source": [
    "abs(X_temp_mean)"
   ]
  },
  {
   "cell_type": "code",
   "execution_count": null,
   "metadata": {},
   "outputs": [],
   "source": [
    "num = len(X_temp_norm)/2\n",
    "num"
   ]
  },
  {
   "cell_type": "code",
   "execution_count": null,
   "metadata": {
    "collapsed": true
   },
   "outputs": [],
   "source": [
    "def dft_map(X, Fs, shift=True):\n",
    "    resolution = float(Fs) / len(X)\n",
    "    if shift:\n",
    "        n, Y = dft_shift(X)\n",
    "    else:\n",
    "        Y = X\n",
    "        n = np.arange(0, len(Y))\n",
    "    f = n * resolution\n",
    "    return f, Y"
   ]
  },
  {
   "cell_type": "code",
   "execution_count": null,
   "metadata": {
    "scrolled": false
   },
   "outputs": [],
   "source": [
    "Fs = 1/480\n",
    "y = X_temp_norm\n",
    "resolution = Fs/(len(y))\n",
    "n = np.arange(0, len(y))\n",
    "f = n * resolution\n",
    "pylab.rcParams['figure.figsize'] = (10, 7)\n",
    "f_new = [i*8*10800 for i in f]\n",
    "half = len(f_new)/2\n",
    "plt.plot(f_new[:int(half)], abs(y[:int(half)]))\n",
    "plt.xlabel('Frequency')\n",
    "plt.title('DFT')"
   ]
  },
  {
   "cell_type": "code",
   "execution_count": null,
   "metadata": {},
   "outputs": [],
   "source": [
    "Fs3 = 1\n",
    "y3 = X_temp_mean\n",
    "resolution3 = Fs3/len(y3)\n",
    "n3 = np.arange(0, len(y3))\n",
    "f3 = n3 * resolution3\n",
    "pylab.rcParams['figure.figsize'] = (10, 7)\n",
    "f_new3 = f3\n",
    "half3 = len(f_new3)/2\n",
    "plt.plot(f_new3[:int(half3)], abs(y3[:int(half3)]))\n",
    "plt.xlabel('Frequency')\n",
    "plt.title('DFT')"
   ]
  },
  {
   "cell_type": "code",
   "execution_count": null,
   "metadata": {},
   "outputs": [],
   "source": [
    "filtered_y3 = [i if abs(i)>0.025 else 0 for i in y3]\n",
    "reconstructed3 = np.fft.ifft(filtered_y3, norm=\"ortho\")"
   ]
  },
  {
   "cell_type": "code",
   "execution_count": null,
   "metadata": {},
   "outputs": [],
   "source": [
    "pylab.rcParams['figure.figsize'] = (22, 6)\n",
    "plt.plot(range(1, len(mean_temp_list)+1), new_mean_list, linestyle=':', marker='.')\n",
    "plt.title('Mean temperature/ day')\n",
    "plt.ylabel('Temperature (in celsius)')\n",
    "plt.xlabel('Time (days)')\n",
    "plot(range(1, len(mean_temp_list)+1), reconstructed3)\n",
    "plt.show()"
   ]
  },
  {
   "cell_type": "code",
   "execution_count": null,
   "metadata": {},
   "outputs": [],
   "source": [
    "\n",
    "print(f_new[-1])"
   ]
  },
  {
   "cell_type": "code",
   "execution_count": null,
   "metadata": {},
   "outputs": [],
   "source": [
    "for i in range(len(y[:12587])):\n",
    "    if abs(y[i])>0.5:\n",
    "        print(f_new[i])\n",
    "        print(abs(y[i]))"
   ]
  },
  {
   "cell_type": "code",
   "execution_count": null,
   "metadata": {},
   "outputs": [],
   "source": [
    "60*24*7.5"
   ]
  },
  {
   "cell_type": "code",
   "execution_count": null,
   "metadata": {},
   "outputs": [],
   "source": [
    "[k for k in range(len(y))if abs(y[k]) > 1.5]"
   ]
  },
  {
   "cell_type": "code",
   "execution_count": null,
   "metadata": {
    "collapsed": true
   },
   "outputs": [],
   "source": [
    "X_temp_norm_5 = [k  if abs(k) > 5 else 0 for k in X_temp_norm]\n",
    "X_temp_norm_10 = [k  if abs(k) > 10 else 0 for k in X_temp_norm]\n",
    "X_temp_norm_50 = [k  if abs(k) > 50 else 0 for k in X_temp_norm]\n",
    "X_temp_norm_100 = [k  if abs(k) > 100 else 0 for k in X_temp_norm]\n",
    "X_temp_norm_250 = [k  if abs(k) > 250 else 0 for k in X_temp_norm]"
   ]
  },
  {
   "cell_type": "code",
   "execution_count": null,
   "metadata": {
    "collapsed": true
   },
   "outputs": [],
   "source": [
    "x_orig = np.fft.ifft(X_temp_norm)\n",
    "x_reconstruct_5 = np.fft.ifft(X_temp_norm_5)\n",
    "x_reconstruct_10 = np.fft.ifft(X_temp_norm_10)\n",
    "x_reconstruct_50 = np.fft.ifft(X_temp_norm_50)\n",
    "x_reconstruct_100 = np.fft.ifft(X_temp_norm_100)\n",
    "x_reconstruct_250 = np.fft.ifft(X_temp_norm_250)"
   ]
  },
  {
   "cell_type": "code",
   "execution_count": null,
   "metadata": {
    "scrolled": false
   },
   "outputs": [],
   "source": [
    "pylab.rcParams['figure.figsize'] = (22, 40)\n",
    "plt.subplots_adjust(wspace=8)\n",
    "plt.subplot(611)\n",
    "axes = plt.gca()\n",
    "axes.set_ylim([-0.1, 0.25])\n",
    "plt.title('Reconstructed signal')\n",
    "plt.xticks(rotation=0)\n",
    "plt.plot(norm_df['Time'], norm_df['Temperature_normalized'], linestyle=':', marker='.')\n",
    "\n",
    "plt.subplot(612)\n",
    "axes = plt.gca()\n",
    "axes.set_ylim([-0.1, 0.25])\n",
    "plt.title('Reconsructed signal (y>250)')\n",
    "plt.xticks(rotation=0)\n",
    "plt.plot(norm_df['Time'], x_reconstruct_250, linestyle=':', marker='.')\n",
    "\n",
    "plt.subplot(613)\n",
    "axes = plt.gca()\n",
    "axes.set_ylim([-0.1, 0.25])\n",
    "plt.title('Reconsructed signal (y>100)')\n",
    "plt.xticks(rotation=0)\n",
    "plt.plot(norm_df['Time'], x_reconstruct_100, linestyle=':', marker='.')\n",
    "\n",
    "plt.subplot(614)\n",
    "axes = plt.gca()\n",
    "axes.set_ylim([-0.1, 0.25])\n",
    "plt.title('Reconsructed signal (y>50)')\n",
    "plt.xticks(rotation=0)\n",
    "plt.plot(norm_df['Time'], x_reconstruct_50, linestyle=':', marker='.')\n",
    "\n",
    "plt.subplot(615)\n",
    "axes = plt.gca()\n",
    "axes.set_ylim([-0.1, 0.25])\n",
    "plt.title('Reconsructed signal (y>10)')\n",
    "plt.xticks(rotation=0)\n",
    "plt.plot(norm_df['Time'], x_reconstruct_10, linestyle=':', marker='.')\n",
    "\n",
    "plt.subplot(616)\n",
    "axes = plt.gca()\n",
    "axes.set_ylim([-0.1, 0.25])\n",
    "plt.title('Reconsructed signal (y>5)')\n",
    "plt.xticks(rotation=0)\n",
    "plt.plot(norm_df['Time'], x_reconstruct_5, linestyle=':', marker='.')"
   ]
  },
  {
   "cell_type": "code",
   "execution_count": null,
   "metadata": {
    "collapsed": true
   },
   "outputs": [],
   "source": [
    "norm_df.sort_values(['Time'], inplace=True)\n",
    "norm_df.reset_index(drop=True, inplace=True)"
   ]
  },
  {
   "cell_type": "code",
   "execution_count": null,
   "metadata": {
    "collapsed": true
   },
   "outputs": [],
   "source": [
    "normalized_y =norm_df['Temperature_normalized'].rolling(window=180).mean()\n",
    "normalized_y.fillna(0, inplace=True)"
   ]
  },
  {
   "cell_type": "code",
   "execution_count": null,
   "metadata": {
    "collapsed": true
   },
   "outputs": [],
   "source": [
    "# pylab.rcParams['figure.figsize'] = (22, 8)\n",
    "# plt.plot(normalized_y)"
   ]
  },
  {
   "cell_type": "code",
   "execution_count": null,
   "metadata": {
    "collapsed": true
   },
   "outputs": [],
   "source": [
    "# new_t = [(m*480)/(60*60*24) for m in range(len(x_orig))]"
   ]
  },
  {
   "cell_type": "code",
   "execution_count": null,
   "metadata": {
    "collapsed": true
   },
   "outputs": [],
   "source": [
    "# plt.plot(new_t, x_orig)"
   ]
  }
 ],
 "metadata": {
  "kernelspec": {
   "display_name": "Python 3",
   "language": "python",
   "name": "python3"
  },
  "language_info": {
   "codemirror_mode": {
    "name": "ipython",
    "version": 3
   },
   "file_extension": ".py",
   "mimetype": "text/x-python",
   "name": "python",
   "nbconvert_exporter": "python",
   "pygments_lexer": "ipython3",
   "version": "3.6.3"
  }
 },
 "nbformat": 4,
 "nbformat_minor": 2
}
