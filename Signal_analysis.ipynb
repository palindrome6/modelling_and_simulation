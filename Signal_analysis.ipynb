{
 "cells": [
  {
   "cell_type": "code",
   "execution_count": null,
   "metadata": {},
   "outputs": [],
   "source": [
    "# imports\n",
    "\n",
    "import pandas as pd\n",
    "import numpy as np\n",
    "import matplotlib.pyplot as plt\n",
    "from datetime import datetime\n",
    "from scipy import fftpack\n",
    "%pylab inline\n",
    "plt.style.use('seaborn-whitegrid')\n",
    "pylab.rcParams['figure.figsize'] = (22, 6)\n",
    "import matplotlib\n",
    "matplotlib.rcParams.update({'font.size': 20})"
   ]
  },
  {
   "cell_type": "code",
   "execution_count": null,
   "metadata": {},
   "outputs": [],
   "source": [
    "df1 = pd.read_csv('Data/BMS/Rooms and HVAC/RCU middenhal.csv', delimiter=';', encoding='utf-8')\n",
    "df2 = pd.read_csv('Data/tickets-8min.csv', delimiter=',', encoding='utf-8')"
   ]
  },
  {
   "cell_type": "code",
   "execution_count": null,
   "metadata": {},
   "outputs": [],
   "source": [
    "df_ticketing = pd.DataFrame()"
   ]
  },
  {
   "cell_type": "code",
   "execution_count": null,
   "metadata": {},
   "outputs": [],
   "source": [
    "df_ticketing['time'] = pd.to_datetime(df2['period ending'], format=\"%Y-%m-%d %H:%M:%S\")\n",
    "df_ticketing['visitors'] = df2['visitors']"
   ]
  },
  {
   "cell_type": "code",
   "execution_count": null,
   "metadata": {},
   "outputs": [],
   "source": [
    "df_ticketing.sort_values(['time'], inplace=True)"
   ]
  },
  {
   "cell_type": "code",
   "execution_count": null,
   "metadata": {
    "collapsed": true
   },
   "outputs": [],
   "source": [
    "def shift(row, mean):\n",
    "\n",
    "    return (row - mean)"
   ]
  },
  {
   "cell_type": "code",
   "execution_count": null,
   "metadata": {
    "collapsed": true
   },
   "outputs": [],
   "source": [
    "def multi_resolution_ticketing(df, column1, freq):\n",
    "\n",
    "    grouped =  df.groupby(pd.Grouper(key='time', freq=freq))\n",
    "    norm_df = pd.DataFrame()\n",
    "    \n",
    "    mean_ticketing_list = []\n",
    "    \n",
    "    for name, group in grouped:\n",
    "        df_sub = pd.DataFrame(group)\n",
    "        \n",
    "        mean_tick = df_sub[column1].mean()\n",
    "        mean_ticketing_list.append(mean_tick)\n",
    "        df_sub['Ticketing_piecewise'] = mean_tick\n",
    "        \n",
    "        df_sub['Ticketing_shifted'] = df_sub.apply(lambda row: shift(row[column1], mean_tick), axis=1)\n",
    "        \n",
    "        norm_df = norm_df.append(df_sub)\n",
    "    \n",
    "    return norm_df, mean_ticketing_list\n"
   ]
  },
  {
   "cell_type": "code",
   "execution_count": null,
   "metadata": {
    "scrolled": false
   },
   "outputs": [],
   "source": [
    "df_ticketing['visitors_rm'] = pd.rolling_mean(df_ticketing['visitors'], 180)"
   ]
  },
  {
   "cell_type": "code",
   "execution_count": null,
   "metadata": {
    "collapsed": true
   },
   "outputs": [],
   "source": [
    "df_ticketing['visitors_rm'].fillna(0, inplace=True)"
   ]
  },
  {
   "cell_type": "code",
   "execution_count": null,
   "metadata": {
    "collapsed": true
   },
   "outputs": [],
   "source": [
    "df_ticketing, mean_ticketing_week = multi_resolution_ticketing(df_ticketing, 'visitors_rm', 'W')"
   ]
  },
  {
   "cell_type": "code",
   "execution_count": null,
   "metadata": {},
   "outputs": [],
   "source": [
    "df_ticketing.columns = ['time', 'visitors','visitors_rm', 'Ticketing_piecewise_week', 'Ticketing_shifted_week']"
   ]
  },
  {
   "cell_type": "code",
   "execution_count": null,
   "metadata": {
    "collapsed": true
   },
   "outputs": [],
   "source": [
    "df_ticketing, mean_ticketing_day = multi_resolution_ticketing(df_ticketing, 'Ticketing_shifted_week', 'D')"
   ]
  },
  {
   "cell_type": "code",
   "execution_count": null,
   "metadata": {},
   "outputs": [],
   "source": [
    "df_ticketing.columns = ['time', 'visitors','visitors_rm', 'Ticketing_piecewise_week', 'Ticketing_shifted_week', \\\n",
    "                       'Ticketing_piecewise_day', 'Ticketing_shifted_day']"
   ]
  },
  {
   "cell_type": "code",
   "execution_count": null,
   "metadata": {
    "collapsed": true
   },
   "outputs": [],
   "source": [
    "df_ticketing, mean_ticketing_2H = multi_resolution_ticketing(df_ticketing, 'Ticketing_shifted_day', '2H')"
   ]
  },
  {
   "cell_type": "code",
   "execution_count": null,
   "metadata": {
    "collapsed": true
   },
   "outputs": [],
   "source": [
    "df_ticketing.columns = ['time', 'visitors','visitors_rm', 'Ticketing_piecewise_week', 'Ticketing_shifted_week', \\\n",
    "                       'Ticketing_piecewise_day', 'Ticketing_shifted_day', 'Ticketing_piecewise_2H', 'Ticketing_shifted_2H' ]"
   ]
  },
  {
   "cell_type": "code",
   "execution_count": null,
   "metadata": {
    "collapsed": true
   },
   "outputs": [],
   "source": [
    "df_ticketing, mean_ticketing_32Min = multi_resolution_ticketing(df_ticketing, 'Ticketing_shifted_2H', '32Min')"
   ]
  },
  {
   "cell_type": "code",
   "execution_count": null,
   "metadata": {
    "collapsed": true
   },
   "outputs": [],
   "source": [
    "df_ticketing.columns = ['time', 'visitors','visitors_rm', 'Ticketing_piecewise_week', 'Ticketing_shifted_week', \\\n",
    "                       'Ticketing_piecewise_day', 'Ticketing_shifted_day', 'Ticketing_piecewise_2H', 'Ticketing_shifted_2H',\n",
    "                       'Ticketing_piecewise_32Min', 'Ticketing_shifted_32Min']"
   ]
  },
  {
   "cell_type": "code",
   "execution_count": null,
   "metadata": {
    "collapsed": true
   },
   "outputs": [],
   "source": [
    "df_ticketing, mean_ticketing_16Min = multi_resolution_ticketing(df_ticketing, 'Ticketing_shifted_32Min', '16Min')"
   ]
  },
  {
   "cell_type": "code",
   "execution_count": null,
   "metadata": {
    "collapsed": true
   },
   "outputs": [],
   "source": [
    "df_ticketing.columns = ['time', 'visitors','visitors_rm', 'Ticketing_piecewise_week', 'Ticketing_shifted_week', \\\n",
    "                       'Ticketing_piecewise_day', 'Ticketing_shifted_day', 'Ticketing_piecewise_2H', 'Ticketing_shifted_2H',\n",
    "                       'Ticketing_piecewise_32Min', 'Ticketing_shifted_32Min', \\\n",
    "                        'Ticketing_piecewise_16Min', 'Ticketing_shifted_16Min']"
   ]
  },
  {
   "cell_type": "code",
   "execution_count": null,
   "metadata": {},
   "outputs": [],
   "source": [
    "x_range =[(m*480)/(60*60*24) for m in range(1, len(df_ticketing['visitors_rm'])+1)]\n",
    "plt.plot(x_range, df_ticketing['visitors_rm'], linestyle=':', marker='.', color=\"pink\", label=\"visitors\")\n",
    "plt.plot(x_range, df_ticketing['Ticketing_piecewise_week'], linestyle='--', color=\"black\", label = \"piecewise (week) - X1\")\n",
    "plt.legend()\n",
    "plt.xlabel('Time (days)')\n",
    "plt.show()"
   ]
  },
  {
   "cell_type": "code",
   "execution_count": null,
   "metadata": {},
   "outputs": [],
   "source": [
    "x_range =[(m*480)/(60*60*24) for m in range(1, len(df_ticketing['visitors_rm'])+1)]\n",
    "plt.plot(x_range, df_ticketing['Ticketing_shifted_week'], linestyle=':', marker='.', color=\"pink\", label=\"visitors\")\n",
    "plt.plot(x_range, df_ticketing['Ticketing_piecewise_day'], linestyle='--', color=\"black\", label = \"piecewise (day) - X2\")\n",
    "plt.legend()\n",
    "plt.xlabel('Time (days)')\n",
    "plt.show()"
   ]
  },
  {
   "cell_type": "code",
   "execution_count": null,
   "metadata": {},
   "outputs": [],
   "source": [
    "x_range =[(m*480)/(60*60*24) for m in range(1, len(df_ticketing['visitors_rm'])+1)]\n",
    "plt.plot(x_range, df_ticketing['Ticketing_shifted_day'], linestyle=':', marker='.', color=\"pink\", label=\"visitors\")\n",
    "plt.plot(x_range, df_ticketing['Ticketing_piecewise_2H'], linestyle='--', color=\"black\", label = \"piecewise (2H) - X3\")\n",
    "plt.legend()\n",
    "plt.xlabel('Time (days)')\n",
    "plt.show()"
   ]
  },
  {
   "cell_type": "code",
   "execution_count": null,
   "metadata": {},
   "outputs": [],
   "source": [
    "x_range =[(m*480)/(60*60*24) for m in range(1, len(df_ticketing['visitors_rm'])+1)]\n",
    "plt.plot(x_range, df_ticketing['Ticketing_shifted_2H'], linestyle=':', marker='.', color=\"pink\", label=\"visitors\")\n",
    "plt.plot(x_range, df_ticketing['Ticketing_piecewise_32Min'], linestyle='--', color=\"black\", label = \"piecewise (32Min) - X4\")\n",
    "plt.legend()\n",
    "plt.xlabel('Time (days)')\n",
    "plt.show()"
   ]
  },
  {
   "cell_type": "code",
   "execution_count": null,
   "metadata": {},
   "outputs": [],
   "source": [
    "x_range =[(m*480)/(60*60*24) for m in range(1, len(df_ticketing['visitors_rm'])+1)]\n",
    "plt.plot(x_range, df_ticketing['Ticketing_shifted_32Min'], linestyle=':', marker='.', color=\"pink\", label=\"visitors\")\n",
    "plt.plot(x_range, df_ticketing['Ticketing_piecewise_16Min'], linestyle='--', color=\"black\", label = \"piecewise (16Min) - X5\")\n",
    "plt.legend()\n",
    "plt.xlabel('Time (days)')\n",
    "plt.show()"
   ]
  },
  {
   "cell_type": "code",
   "execution_count": null,
   "metadata": {},
   "outputs": [],
   "source": [
    "x_range =[(m*480)/(60*60*24) for m in range(1, len(df_ticketing['visitors_rm'])+1)]\n",
    "plt.plot(x_range, df_ticketing['Ticketing_shifted_16Min'], linestyle=':', marker='.', color=\"pink\", label=\"visitors residual\")\n",
    "plt.legend()\n",
    "plt.xlabel('Time (days)')\n",
    "plt.show()"
   ]
  },
  {
   "cell_type": "code",
   "execution_count": null,
   "metadata": {
    "collapsed": true
   },
   "outputs": [],
   "source": [
    "df_data = df1[['Tijdstip', 'Gemiddelde ruimtetemp [°C] - RCU Middelhal 255 ()', 'Luchtkwaliteitopnemer [ppm] - RCU Middelhal 255 (255QT01)']]\n",
    "df_data.is_copy = False\n",
    "df_data.columns = ['Time', 'Temperature', 'CO2']"
   ]
  },
  {
   "cell_type": "code",
   "execution_count": null,
   "metadata": {
    "collapsed": true
   },
   "outputs": [],
   "source": [
    "df_data.is_copy = False\n",
    "df_data['Time'] = pd.to_datetime(df_data['Time'], format=\"%d-%m-%Y %H:%M.%S\")\n",
    "\n",
    "df_data['Temperature'] = [str(x).replace(',', '.') for x in df_data['Temperature']]\n",
    "df_data['Temperature'] = pd.to_numeric(df_data['Temperature'], errors='coerce')\n",
    "df_data['CO2'] = pd.to_numeric(df_data['CO2'], errors='coerce')"
   ]
  },
  {
   "cell_type": "code",
   "execution_count": null,
   "metadata": {
    "collapsed": true
   },
   "outputs": [],
   "source": [
    "df_data.sort_values(['Time'], inplace=True)"
   ]
  },
  {
   "cell_type": "code",
   "execution_count": null,
   "metadata": {
    "collapsed": true
   },
   "outputs": [],
   "source": [
    "df_data = df_data.loc[df_data['Time'] > datetime.datetime(2017, 10, 23, 9, 0, 0)]\n",
    "df_data = df_data.loc[df_data['Time'] <= datetime.datetime(2018, 2, 28, 13, 56, 0)]"
   ]
  },
  {
   "cell_type": "code",
   "execution_count": null,
   "metadata": {
    "collapsed": true
   },
   "outputs": [],
   "source": [
    "mean1 = df_data['Temperature'].mean()\n",
    "df_data['Temperature_centered'] = [i-mean1 for i in df_data['Temperature']]\n",
    "\n",
    "mean2 = df_data['CO2'].mean()\n",
    "df_data['CO2_centered'] = [i-mean2 for i in df_data['CO2']]"
   ]
  },
  {
   "cell_type": "code",
   "execution_count": null,
   "metadata": {
    "collapsed": true
   },
   "outputs": [],
   "source": [
    "\n",
    "\n",
    "def multi_resolution(df, column1, column2, freq):\n",
    "\n",
    "    grouped =  df.groupby(pd.Grouper(key='Time', freq=freq))\n",
    "    norm_df = pd.DataFrame()\n",
    "    \n",
    "    mean_temp_list = []\n",
    "    mean_CO2_list = []\n",
    "    \n",
    "    mean_temp_list_actual = []\n",
    "    mean_CO2_list_actual = []\n",
    "    \n",
    "    for name, group in grouped:\n",
    "        df_sub = pd.DataFrame(group)\n",
    "        \n",
    "        mean_temp = df_sub[column1].mean()\n",
    "        mean_temp_actual = df_sub['Temperature'].mean()\n",
    "        mean_temp_list.append(mean_temp)\n",
    "        mean_temp_list_actual.append(mean_temp_actual)\n",
    "        df_sub['Temperature_piecewise'] = mean_temp\n",
    "        \n",
    "        mean_CO2 = df_sub[column2].mean()\n",
    "        mean_CO2_actual = df_sub['CO2'].mean()\n",
    "        mean_CO2_list.append(mean_CO2)\n",
    "        mean_CO2_list_actual.append(mean_CO2_actual)\n",
    "        df_sub['CO2_piecewise'] = mean_CO2\n",
    "        \n",
    "        df_sub['Temperature_shifted'] = df_sub.apply(lambda row: shift(row[column1], mean_temp), axis=1)\n",
    "        df_sub['CO2_shifted'] = df_sub.apply(lambda row: shift(row[column2], mean_CO2), axis=1)\n",
    "        \n",
    "        norm_df = norm_df.append(df_sub)\n",
    "    \n",
    "    return norm_df, list(mean_temp_list), list(mean_CO2_list), list(mean_temp_list_actual), list(mean_CO2_list_actual)"
   ]
  },
  {
   "cell_type": "code",
   "execution_count": null,
   "metadata": {
    "collapsed": true
   },
   "outputs": [],
   "source": [
    "df_data, mean_temp_week, mean_CO2_week, mean_temp_week_actual, mean_CO2_week_actual = multi_resolution(df_data, 'Temperature', \\\n",
    "                                                        'CO2', 'W')"
   ]
  },
  {
   "cell_type": "code",
   "execution_count": null,
   "metadata": {
    "collapsed": true
   },
   "outputs": [],
   "source": [
    "df_data.columns = ['Time', 'Temperature', 'CO2', 'Temperature_centered', 'CO2_centered', \\\n",
    "                  'Temperature_piecewise_week', 'CO2_piecewise_week', 'Temperature_shifted_week', 'CO2_shifted_week']"
   ]
  },
  {
   "cell_type": "code",
   "execution_count": null,
   "metadata": {
    "collapsed": true
   },
   "outputs": [],
   "source": [
    "df_data, mean_temp_day, mean_CO2_day, mean_temp_day_actual, mean_CO2_day_actual = multi_resolution(df_data, 'Temperature_shifted_week', \\\n",
    "                                                      'CO2_shifted_week', 'D')"
   ]
  },
  {
   "cell_type": "code",
   "execution_count": null,
   "metadata": {
    "collapsed": true
   },
   "outputs": [],
   "source": [
    "df_data.columns = ['Time', 'Temperature', 'CO2', 'Temperature_centered', 'CO2__centered', \\\n",
    "                  'Temperature_piecewise_week', 'CO2_piecewise_week', 'Temperature_shifted_week', 'CO2_shifted_week', \\\n",
    "                  'Temperature_piecewise_day', 'CO2_piecewise_day', 'Temperature_shifted_day', 'CO2_shifted_day']"
   ]
  },
  {
   "cell_type": "code",
   "execution_count": null,
   "metadata": {
    "collapsed": true
   },
   "outputs": [],
   "source": [
    "df_data, mean_temp_2H, mean_CO2_2H, mean_temp_2H_actual, mean_CO2_2H_actual = multi_resolution(df_data, 'Temperature_shifted_day', \\\n",
    "                                                      'CO2_shifted_day', '2H')"
   ]
  },
  {
   "cell_type": "code",
   "execution_count": null,
   "metadata": {
    "collapsed": true
   },
   "outputs": [],
   "source": [
    "df_data.columns = ['Time', 'Temperature', 'CO2', 'Temperature_centered', 'CO2_centered', \\\n",
    "                  'Temperature_piecewise_week', 'CO2_piecewise_week', 'Temperature_shifted_week', 'CO2_shifted_week', \\\n",
    "                  'Temperature_piecewise_day', 'CO2_piecewise_day', 'Temperature_shifted_day', 'CO2_shifted_day', \\\n",
    "                  'Temperature_piecewise_2H', 'CO2_piecewise_2H', 'Temperature_shifted_2H', 'CO2_shifted_2H']"
   ]
  },
  {
   "cell_type": "code",
   "execution_count": null,
   "metadata": {
    "collapsed": true
   },
   "outputs": [],
   "source": [
    "df_data, mean_temp_32Min, mean_CO2_32Min, mean_temp_32Min_actual, mean_CO2_32Min_actual = multi_resolution(df_data, 'Temperature_shifted_2H', \\\n",
    "                                                      'CO2_shifted_2H', '32Min')"
   ]
  },
  {
   "cell_type": "code",
   "execution_count": null,
   "metadata": {
    "collapsed": true
   },
   "outputs": [],
   "source": [
    "df_data.columns = ['Time', 'Temperature', 'CO2', 'Temperature_centered', 'CO2_centered', \\\n",
    "                  'Temperature_piecewise_week', 'CO2_piecewise_week', 'Temperature_shifted_week', 'CO2_shifted_week', \\\n",
    "                  'Temperature_piecewise_day', 'CO2_piecewise_day', 'Temperature_shifted_day', 'CO2_shifted_day', \\\n",
    "                  'Temperature_piecewise_2H', 'CO2_piecewise_2H', 'Temperature_shifted_2H', 'CO2_shifted_2H', \\\n",
    "                  'Temperature_piecewise_32Min', 'CO2_piecewise_32Min', 'Temperature_shifted_32Min', 'CO2_shifted_32Min']"
   ]
  },
  {
   "cell_type": "code",
   "execution_count": null,
   "metadata": {
    "collapsed": true
   },
   "outputs": [],
   "source": [
    "df_data, mean_temp_16Min, mean_CO2_16Min, mean_temp_16Min_actual, mean_CO2_16Min_actual = multi_resolution(df_data, 'Temperature_shifted_32Min', \\\n",
    "                                                      'CO2_shifted_32Min', '16Min')"
   ]
  },
  {
   "cell_type": "code",
   "execution_count": null,
   "metadata": {
    "collapsed": true
   },
   "outputs": [],
   "source": [
    "df_data.columns = ['Time', 'Temperature', 'CO2', 'Temperature_centered', 'CO2_centered', \\\n",
    "                  'Temperature_piecewise_week', 'CO2_piecewise_week', 'Temperature_shifted_week', 'CO2_shifted_week', \\\n",
    "                  'Temperature_piecewise_day', 'CO2_piecewise_day', 'Temperature_shifted_day', 'CO2_shifted_day', \\\n",
    "                  'Temperature_piecewise_2H', 'CO2_piecewise_2H', 'Temperature_shifted_2H', 'CO2_shifted_2H', \\\n",
    "                  'Temperature_piecewise_32Min', 'CO2_piecewise_32Min', 'Temperature_shifted_32Min', 'CO2_shifted_32Min', \\\n",
    "                  'Temperature_piecewise_16Min', 'CO2_piecewise_16Min', 'Temperature_shifted_16Min', 'CO2_shifted_16Min']"
   ]
  },
  {
   "cell_type": "code",
   "execution_count": null,
   "metadata": {},
   "outputs": [],
   "source": [
    "x_range =[(m*480)/(60*60*24) for m in range(1, len(df_data['CO2'])+1)]\n",
    "plt.plot(x_range, df_data['CO2'], linestyle=':', marker='.', color=\"orange\", label=\"CO2\")\n",
    "plt.plot(x_range, df_data['CO2_piecewise_week'], linestyle='--', color=\"black\", label = \"piecewise (week) - Xi1\")\n",
    "plt.legend()\n",
    "plt.xlabel('Time (days)')\n",
    "plt.show()"
   ]
  },
  {
   "cell_type": "code",
   "execution_count": null,
   "metadata": {
    "scrolled": true
   },
   "outputs": [],
   "source": [
    "x_range =[(m*480)/(60*60*24) for m in range(1, len(df_data['CO2'])+1)]\n",
    "plt.plot(x_range, df_data['CO2_shifted_week'], linestyle=':', marker='.', color=\"orange\", label=\"CO2 (- week)\")\n",
    "plt.plot(x_range, df_data['CO2_piecewise_day'], linestyle='--', color=\"black\", label = \"piecewise (Day) - Xi2\")\n",
    "plt.legend()\n",
    "plt.xlabel('Time')\n",
    "plt.ylabel('CO2')\n",
    "plt.show()"
   ]
  },
  {
   "cell_type": "code",
   "execution_count": null,
   "metadata": {},
   "outputs": [],
   "source": [
    "x_range =[(m*480)/(60*60*24) for m in range(1, len(df_data['CO2'])+1)]\n",
    "plt.plot(x_range, df_data['CO2_shifted_day'], linestyle=':', marker='.', color=\"orange\", label=\"CO2 (- day)\")\n",
    "plt.plot(x_range, df_data['CO2_piecewise_2H'], linestyle='--', color=\"black\", label = \"piecewise (2 hours) - Xi3\")\n",
    "plt.legend()\n",
    "plt.xlabel('Time')\n",
    "plt.ylabel('CO2')\n",
    "plt.show()"
   ]
  },
  {
   "cell_type": "code",
   "execution_count": null,
   "metadata": {},
   "outputs": [],
   "source": [
    "x_range =[(m*480)/(60*60*24) for m in range(1, len(df_data['CO2'])+1)]\n",
    "plt.plot(x_range, df_data['CO2_shifted_2H'], linestyle=':', marker='.', color=\"orange\", label=\"CO2\")\n",
    "plt.plot(x_range, df_data['CO2_piecewise_32Min'], linestyle='--', color=\"black\", label = \"piecewise (32 Min) - Xi4\")\n",
    "plt.legend()\n",
    "plt.xlabel('Time')\n",
    "plt.ylabel('CO2')\n",
    "plt.show()"
   ]
  },
  {
   "cell_type": "code",
   "execution_count": null,
   "metadata": {},
   "outputs": [],
   "source": [
    "x_range =[(m*480)/(60*60*24) for m in range(1, len(df_data['CO2'])+1)]\n",
    "plt.plot(x_range, df_data['CO2_shifted_32Min'], linestyle=':', marker='.', color=\"orange\", label=\"CO2\")\n",
    "plt.plot(x_range, df_data['CO2_piecewise_16Min'], linestyle='--', color=\"black\", label = \"piecewise (16 Min) - Xi5\")\n",
    "plt.legend()\n",
    "plt.xlabel('Time')\n",
    "plt.ylabel('CO2')\n",
    "plt.show()"
   ]
  },
  {
   "cell_type": "code",
   "execution_count": null,
   "metadata": {},
   "outputs": [],
   "source": [
    "x_range =[(m*480)/(60*60*24) for m in range(1, len(df_data['CO2'])+1)]\n",
    "plt.plot(x_range, df_data['CO2_shifted_16Min'], linestyle=':', marker='.', color=\"orange\", label=\"CO2 residual\")\n",
    "plt.legend()\n",
    "plt.xlabel('Time')\n",
    "plt.ylabel('CO2')\n",
    "plt.show()"
   ]
  },
  {
   "cell_type": "code",
   "execution_count": null,
   "metadata": {
    "scrolled": true
   },
   "outputs": [],
   "source": [
    "# plt.plot(residual, linestyle=':', marker='.', color=\"orange\", label=\"CO2\")\n",
    "plt.plot(range(len(df_ticketing['visitors_rm'])), df_ticketing['visitors_rm'], linestyle=':', marker='.', color=\"red\")\n",
    "# plt.plot(x_range, df_data['CO2_piecewise_8Min'], linestyle='--', color=\"black\", label = \"piecewise (8 Min)\")\n",
    "plt.legend()\n",
    "plt.xlabel('Time')\n",
    "plt.ylabel('Tickets')\n",
    "plt.title('Ticketing data')\n",
    "plt.show()"
   ]
  },
  {
   "cell_type": "code",
   "execution_count": null,
   "metadata": {},
   "outputs": [],
   "source": [
    "# plt.plot(residual, linestyle=':', marker='.', color=\"orange\", label=\"CO2\")\n",
    "plt.plot(range(len(df_ticketing['Ticketing_shifted'])), df_ticketing['Ticketing_shifted'], linestyle=':', marker='.', color=\"red\")\n",
    "# plt.plot(x_range, df_data['CO2_piecewise_8Min'], linestyle='--', color=\"black\", label = \"piecewise (8 Min)\")\n",
    "plt.legend()\n",
    "plt.xlabel('Time')\n",
    "plt.ylabel('Tickets')\n",
    "plt.title('Ticketing data')\n",
    "plt.show()"
   ]
  },
  {
   "cell_type": "code",
   "execution_count": null,
   "metadata": {
    "collapsed": true
   },
   "outputs": [],
   "source": [
    "from scipy.signal import correlate\n",
    "\n",
    "lag = np.argmax(correlate(df_ticketing['Ticketing_shifted'], df_data['CO2_shifted_16Min']))\n",
    "c_sig = np.roll(df_data['CO2_shifted_16Min'], shift=int(np.ceil(lag)))"
   ]
  },
  {
   "cell_type": "code",
   "execution_count": null,
   "metadata": {},
   "outputs": [],
   "source": [
    "import numpy as np\n",
    "import scipy.stats as stats\n",
    "import pylab as pl\n",
    "import statsmodels.api as sm\n",
    "\n",
    "h = sorted(list(df_data['CO2_shifted_16Min']))  #sorted\n",
    "\n",
    "fit = stats.norm.pdf(h, np.mean(h), np.std(h))  #this is a fitting indeed\n",
    "\n",
    "pl.plot(h,fit,'-o')\n",
    "\n",
    "pl.hist(h, bins=250, normed=True)      #use this to draw histogram of your data\n",
    "# pl.xlim([-20, 20])\n",
    "pl.show()          "
   ]
  },
  {
   "cell_type": "code",
   "execution_count": null,
   "metadata": {
    "collapsed": true
   },
   "outputs": [],
   "source": [
    "def autocorr(x):\n",
    "    result = numpy.correlate(x, x, mode='full')\n",
    "    return result[int(result.size/2):]"
   ]
  },
  {
   "cell_type": "code",
   "execution_count": null,
   "metadata": {
    "collapsed": true
   },
   "outputs": [],
   "source": [
    "mean1 = np.mean(mean_CO2_day_actual)\n",
    "mean_CO2_day_actual_centered =  [i-mean1 for i in mean_CO2_day_actual]\n",
    "\n",
    "mean2 = np.mean(mean_CO2_2H_actual)\n",
    "mean_CO2_2H_actual_centered =  [i-mean2 for i in mean_CO2_2H_actual]"
   ]
  },
  {
   "cell_type": "code",
   "execution_count": null,
   "metadata": {
    "scrolled": false
   },
   "outputs": [],
   "source": [
    "pylab.rcParams['figure.figsize'] = (24, 20)\n",
    "\n",
    "plt.subplot(3,2,1)\n",
    "mean_CO2_week_centered = mean_CO2_week-np.mean(mean_CO2_week) \n",
    "plt.plot(autocorr(mean_CO2_week_centered))\n",
    "plt.title('Autocorrelaion of ' + r'$\\xi_1$' + ' (Week)')\n",
    "\n",
    "plt.subplot(3,2,2)\n",
    "mean_CO2_day_centered = mean_CO2_day-np.mean(mean_CO2_day) \n",
    "plt.plot(autocorr(mean_CO2_day_centered))\n",
    "plt.title('Autocorrelaion of ' + r'$\\xi_2$' + ' (Day)')\n",
    "\n",
    "plt.subplot(3,2,3)\n",
    "mean_CO2_2H_centered = mean_CO2_2H-np.mean(mean_CO2_2H) \n",
    "plt.plot(autocorr(mean_CO2_2H_centered))\n",
    "plt.title('Autocorrelaion of ' + r'$\\xi_3$' + ' (2H)')\n",
    "\n",
    "plt.subplot(3,2,4)\n",
    "mean_CO2_32Min_centered = mean_CO2_32Min-np.mean(mean_CO2_32Min) \n",
    "plt.plot(autocorr(mean_CO2_32Min_centered))\n",
    "plt.title('Autocorrelaion of ' + r'$\\xi_4$' + ' (32Min)')\n",
    "\n",
    "plt.subplot(3,2,5)\n",
    "mean_CO2_16Min_centered = mean_CO2_16Min-np.mean(mean_CO2_16Min) \n",
    "plt.plot(autocorr(mean_CO2_16Min_centered))\n",
    "plt.title('Autocorrelaion of ' + r'$\\xi_5$' + ' (16Min)')"
   ]
  },
  {
   "cell_type": "code",
   "execution_count": null,
   "metadata": {
    "collapsed": true
   },
   "outputs": [],
   "source": [
    "actual = []\n",
    "shift_by_one = []\n",
    "shift_by_two = []\n",
    "shift_by_three = []\n",
    "for i in range(3, len(mean_CO2_day_actual_centered)):\n",
    "    actual.append(mean_CO2_day_actual_centered[i])\n",
    "    shift_by_one.append(mean_CO2_day_actual_centered[i-1])\n",
    "    shift_by_two.append(mean_CO2_day_actual_centered[i-2])\n",
    "    shift_by_three.append(mean_CO2_day_actual_centered[i-3])"
   ]
  },
  {
   "cell_type": "code",
   "execution_count": null,
   "metadata": {
    "collapsed": true
   },
   "outputs": [],
   "source": [
    "regression_df = pd.DataFrame()\n",
    "regression_df['x3'] = list(shift_by_three)\n",
    "regression_df['x2'] = list(shift_by_two)\n",
    "regression_df['x1'] = list(shift_by_one)\n",
    "regression_df['y'] = list(actual)"
   ]
  },
  {
   "cell_type": "code",
   "execution_count": null,
   "metadata": {
    "collapsed": true
   },
   "outputs": [],
   "source": [
    "X_train = regression_df[['x3', 'x2', 'x1']]\n",
    "# X_train = regression_df['x1']\n",
    "y_train = regression_df['y']"
   ]
  },
  {
   "cell_type": "code",
   "execution_count": null,
   "metadata": {
    "collapsed": true
   },
   "outputs": [],
   "source": [
    "from sklearn import linear_model"
   ]
  },
  {
   "cell_type": "code",
   "execution_count": null,
   "metadata": {},
   "outputs": [],
   "source": [
    "# Create linear regression object\n",
    "regr = linear_model.LinearRegression()\n",
    "\n",
    "# Train the model using the training sets\n",
    "regr.fit(X_train, y_train)\n",
    "\n",
    "# The coefficients\n",
    "print('Coefficients: \\n', regr.coef_)"
   ]
  },
  {
   "cell_type": "code",
   "execution_count": null,
   "metadata": {
    "collapsed": true
   },
   "outputs": [],
   "source": [
    "y_pred = regr.predict(X_train)"
   ]
  },
  {
   "cell_type": "code",
   "execution_count": null,
   "metadata": {
    "collapsed": true
   },
   "outputs": [],
   "source": [
    "y_pred = [i+mean for i in y_pred]\n",
    "actual = [i+mean for i in actual]\n",
    "x1_n = [i+mean for i in shift_by_one]\n",
    "x2_n = [i+mean for i in shift_by_two]\n",
    "x3_n = [i+mean for i in shift_by_three]"
   ]
  },
  {
   "cell_type": "code",
   "execution_count": null,
   "metadata": {},
   "outputs": [],
   "source": [
    "\n",
    "plt.plot(y_pred, linestyle='-', color=\"black\", label='predicted')\n",
    "plt.plot(actual, linestyle='-', color=\"green\", label='actual')\n",
    "plt.plot(x1_n, linestyle='-', color=\"red\", label='x1')\n",
    "# plt.plot(x2_n, linestyle='-', color=\"orange\", label='x2')\n",
    "# plt.plot(x3_n, linestyle='--', color=\"pink\", label='x3')\n",
    "plt.legend()\n",
    "plt.show()"
   ]
  },
  {
   "cell_type": "code",
   "execution_count": null,
   "metadata": {},
   "outputs": [],
   "source": [
    "from statsmodels.tsa.arima_model import ARIMA"
   ]
  },
  {
   "cell_type": "code",
   "execution_count": null,
   "metadata": {},
   "outputs": [],
   "source": [
    "# fit model\n",
    "model = ARIMA(actual, order=(3,0,0))\n",
    "model_fit = model.fit(disp=0)\n",
    "print(model_fit.summary())"
   ]
  },
  {
   "cell_type": "code",
   "execution_count": null,
   "metadata": {
    "collapsed": true
   },
   "outputs": [],
   "source": []
  }
 ],
 "metadata": {
  "kernelspec": {
   "display_name": "Python 3",
   "language": "python",
   "name": "python3"
  },
  "language_info": {
   "codemirror_mode": {
    "name": "ipython",
    "version": 3
   },
   "file_extension": ".py",
   "mimetype": "text/x-python",
   "name": "python",
   "nbconvert_exporter": "python",
   "pygments_lexer": "ipython3",
   "version": "3.6.3"
  }
 },
 "nbformat": 4,
 "nbformat_minor": 2
}
