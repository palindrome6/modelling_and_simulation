{
 "cells": [
  {
   "cell_type": "code",
   "execution_count": null,
   "metadata": {},
   "outputs": [],
   "source": [
    "import pandas as pd\n",
    "import numpy as np\n",
    "import matplotlib.pyplot as plt\n",
    "from datetime import datetime\n",
    "from scipy import fftpack\n",
    "%pylab inline\n",
    "plt.style.use('seaborn-whitegrid')\n",
    "pylab.rcParams['figure.figsize'] = (22, 6)"
   ]
  },
  {
   "cell_type": "code",
   "execution_count": null,
   "metadata": {
    "collapsed": true
   },
   "outputs": [],
   "source": [
    "df = pd.read_csv('Data/BMS/Rooms and HVAC/RCU middenhal.csv', delimiter=';', encoding='utf-8')"
   ]
  },
  {
   "cell_type": "code",
   "execution_count": null,
   "metadata": {
    "collapsed": true
   },
   "outputs": [],
   "source": [
    "df_temp = df[['Tijdstip', 'Gemiddelde ruimtetemp [°C] - RCU Middelhal 255 ()']]\n",
    "df_temp.is_copy = False\n",
    "df_temp.columns = ['Time', 'Temperature']"
   ]
  },
  {
   "cell_type": "code",
   "execution_count": null,
   "metadata": {
    "collapsed": true
   },
   "outputs": [],
   "source": [
    "df_temp.is_copy = False\n",
    "df_temp['Time'] = pd.to_datetime(df_temp['Time'], format=\"%d-%m-%Y %H:%M.%S\")\n",
    "\n",
    "df_temp['Temperature'] = [str(x).replace(',', '.') for x in df_temp['Temperature']]\n",
    "df_temp['Temperature'] = pd.to_numeric(df_temp['Temperature'], errors='coerce')"
   ]
  },
  {
   "cell_type": "code",
   "execution_count": null,
   "metadata": {
    "collapsed": true
   },
   "outputs": [],
   "source": [
    "df_temp.sort_values(['Time'], inplace=True)"
   ]
  },
  {
   "cell_type": "code",
   "execution_count": null,
   "metadata": {
    "collapsed": true
   },
   "outputs": [],
   "source": [
    "df_temp = df_temp.loc[df_temp['Time'] >= datetime.datetime(2017, 10, 23, 8, 40, 0)]"
   ]
  },
  {
   "cell_type": "code",
   "execution_count": null,
   "metadata": {},
   "outputs": [],
   "source": [
    "plt.plot(df_temp['Time'], df_temp['Temperature'], linestyle=':', marker='.')\n",
    "plt.title('Original signal in time domain')\n",
    "plt.xlabel('Time')\n",
    "plt.ylabel('Temperature (in celcius)')\n",
    "plt.show()"
   ]
  },
  {
   "cell_type": "code",
   "execution_count": null,
   "metadata": {},
   "outputs": [],
   "source": [
    "demean = lambda df: df - df.mean()\n",
    "time = pd.DatetimeIndex(df_temp['Time'])\n",
    "grouped = df_temp.groupby([time.year, time.month, time.day])"
   ]
  },
  {
   "cell_type": "code",
   "execution_count": null,
   "metadata": {},
   "outputs": [],
   "source": [
    "def normalize(row, mean):\n",
    "\n",
    "    return (row - mean)/mean\n",
    "\n",
    "def scale(row, mean):\n",
    "\n",
    "    return (row - mean)\n",
    "\n",
    "norm_df = pd.DataFrame()\n",
    "\n",
    "for name, group in grouped:\n",
    "    df_sub = pd.DataFrame(group)\n",
    "    mean = df_sub['Temperature'].mean()\n",
    "\n",
    "    df_sub['Temperature_normalized'] = df_sub.apply(lambda row: normalize(row['Temperature'], mean), axis=1)\n",
    "    df_sub['Temperature_scaled'] = df_sub.apply(lambda row: scale(row['Temperature'], mean), axis=1)\n",
    "    norm_df = norm_df.append(df_sub)"
   ]
  },
  {
   "cell_type": "code",
   "execution_count": null,
   "metadata": {},
   "outputs": [],
   "source": [
    "plt.plot(norm_df['Time'], norm_df['Temperature_normalized'], linestyle=':', marker='.')\n",
    "plt.show()"
   ]
  },
  {
   "cell_type": "code",
   "execution_count": null,
   "metadata": {},
   "outputs": [],
   "source": [
    "X = np.fft.fft(norm_df['Temperature_normalized'])"
   ]
  },
  {
   "cell_type": "code",
   "execution_count": null,
   "metadata": {
    "collapsed": true
   },
   "outputs": [],
   "source": [
    "freqs = np.fft.fftfreq(len(norm_df['Temperature_normalized'])) * (1/480)"
   ]
  },
  {
   "cell_type": "code",
   "execution_count": null,
   "metadata": {},
   "outputs": [],
   "source": [
    "plt.stem(freqs, np.abs(X))"
   ]
  }
 ],
 "metadata": {
  "kernelspec": {
   "display_name": "Python 3",
   "language": "python",
   "name": "python3"
  },
  "language_info": {
   "codemirror_mode": {
    "name": "ipython",
    "version": 3
   },
   "file_extension": ".py",
   "mimetype": "text/x-python",
   "name": "python",
   "nbconvert_exporter": "python",
   "pygments_lexer": "ipython3",
   "version": "3.6.3"
  }
 },
 "nbformat": 4,
 "nbformat_minor": 2
}
