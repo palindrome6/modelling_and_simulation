{
 "cells": [
  {
   "cell_type": "markdown",
   "metadata": {},
   "source": [
    "##### This script creates a file with the ticketing data on 8 mins. Place it where the Data folder is, and run it."
   ]
  },
  {
   "cell_type": "code",
   "execution_count": null,
   "metadata": {
    "collapsed": true
   },
   "outputs": [],
   "source": [
    "import pandas as pd\n",
    "import datetime as dt\n",
    "import matplotlib.pyplot as plt\n",
    "%matplotlib inline"
   ]
  },
  {
   "cell_type": "code",
   "execution_count": null,
   "metadata": {
    "collapsed": true
   },
   "outputs": [],
   "source": [
    "#setting start and end dates based on the other file\n",
    "\n",
    "time_start=pd.to_datetime('23-10-2017 9:0', format=\"%d-%m-%Y %H:%M\")\n",
    "time_end=pd.to_datetime('28-02-2018 14:04', format=\"%d-%m-%Y %H:%M\")"
   ]
  },
  {
   "cell_type": "code",
   "execution_count": null,
   "metadata": {
    "collapsed": true
   },
   "outputs": [],
   "source": [
    "#read, filter, and plot visitors aggregated on daily level\n",
    "\n",
    "df=pd.read_csv('Data/1 jan 2017 tm 1 mrt 2018.csv', sep=\";\", encoding='latin-1')\n",
    "df=df[df['Abonnement gekoppeld']=='Toegang']\n",
    "df=df[['5-3-2017 13:14']]; df.columns=['Time']\n",
    "df['Time']=pd.to_datetime(df['Time'], format=\"%d-%m-%Y %H:%M\")\n",
    "\n",
    "df=df[df['Time'] > time_start]\n",
    "df=df[df['Time'] <= time_end]\n",
    "df.sort_values(by='Time', ascending=True, inplace=True)\n",
    "df['Date']=df['Time'].apply(lambda x: dt.datetime(x.year, x.month, x.day))\n",
    "\n",
    "df.groupby('Date').count()['Time'].plot()"
   ]
  },
  {
   "cell_type": "code",
   "execution_count": null,
   "metadata": {
    "collapsed": true
   },
   "outputs": [],
   "source": [
    "#create the 8 min time intervals\n",
    "\n",
    "time_range=time_end-time_start\n",
    "num_8min_periods=round((time_range.days*24*60+time_range.seconds/60)/8)\n",
    "\n",
    "dateList = []\n",
    "for x in range (0, num_8min_periods):\n",
    "    dateList.append(time_start + x*dt.timedelta(minutes = 8))\n",
    "\n",
    "df_8min=pd.DataFrame(dateList)\n",
    "df_8min.columns=['Time']"
   ]
  },
  {
   "cell_type": "code",
   "execution_count": null,
   "metadata": {},
   "outputs": [],
   "source": [
    "#calculate cummulative number of logs from start up to the time step, assign it to 'cml' column\n",
    "\n",
    "q=[] #temp variable that will hold cml number of visitors\n",
    "for i in range (0, df_8min.shape[0]):\n",
    "    q.append(df[df['Time']<=df_8min.iloc[i]['Time']].shape[0])\n",
    "\n",
    "df_8min['cml']=q"
   ]
  },
  {
   "cell_type": "code",
   "execution_count": null,
   "metadata": {
    "scrolled": true
   },
   "outputs": [],
   "source": [
    "#get values for individual time steps from the cml, assign it to 'Visitors' column; plot 'Visitors'\n",
    "\n",
    "q1=[]; q1.append(0) #temp variable that will hold number of visitors per 8 min periods\n",
    "for i in range (1, df_8min.shape[0]):\n",
    "    q1.append(df_8min.iloc[i]['cml']-df_8min.iloc[i-1]['cml'])\n",
    "\n",
    "df_8min['Visitors']=q1\n",
    "df_8min.drop('cml', axis=1, inplace=True)\n",
    "\n",
    "df_8min.plot(x='Time', y='Visitors')"
   ]
  },
  {
   "cell_type": "code",
   "execution_count": null,
   "metadata": {
    "collapsed": true
   },
   "outputs": [],
   "source": [
    "#create the new file\n",
    "\n",
    "df_8min.to_csv('Ticketing data on 8mins.csv', index=False)"
   ]
  },
  {
   "cell_type": "code",
   "execution_count": null,
   "metadata": {
    "collapsed": true
   },
   "outputs": [],
   "source": []
  }
 ],
 "metadata": {
  "kernelspec": {
   "display_name": "Python 3",
   "language": "python",
   "name": "python3"
  },
  "language_info": {
   "codemirror_mode": {
    "name": "ipython",
    "version": 3
   },
   "file_extension": ".py",
   "mimetype": "text/x-python",
   "name": "python",
   "nbconvert_exporter": "python",
   "pygments_lexer": "ipython3",
   "version": "3.6.1"
  }
 },
 "nbformat": 4,
 "nbformat_minor": 2
}
