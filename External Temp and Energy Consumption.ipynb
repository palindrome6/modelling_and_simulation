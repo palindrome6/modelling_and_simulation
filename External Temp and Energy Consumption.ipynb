{
 "cells": [
  {
   "cell_type": "code",
   "execution_count": 98,
   "metadata": {
    "collapsed": true
   },
   "outputs": [],
   "source": [
    "import pandas as pd\n",
    "import numpy as np\n",
    "\n",
    "path_weather = r'C:\\Users\\20177480\\Desktop\\Case Studies\\Heijmans Infra (Modeling and Simulation)\\Data\\Weather.xlsx'\n",
    "path_energy = r'C:\\Users\\20177480\\Desktop\\Case Studies\\Heijmans Infra (Modeling and Simulation)\\Data\\Energydata.xlsx'\n",
    "df_temperature =pd.read_excel(path_weather)\n",
    "df_energy =pd.read_excel(path_energy)\n",
    "\n",
    "df_temperature['timestamp'] = pd.to_datetime(df_temperature['timestamp'], format=\"%d-%m-%Y %H:%M.%S\")\n",
    "df_temperature = df_temperature[df_temperature['timestamp']>'23-10-2017 09:00:00']\n",
    "del df_temperature['humidity']\n",
    "df_temperature = df_temperature.set_index('timestamp')\n",
    "\n",
    "df_energy['Time'] = pd.to_datetime(df_energy['Time'], format=\"%d-%m-%Y %H:%M.%S\")\n",
    "df_energy = df_energy[df_energy['Time']>'23-10-2017 09:00:00']\n",
    "df_energy['Energy'] = df_energy['Energy kWh']\n",
    "del df_energy['Energy kWh']\n",
    "df_energy = df_energy.set_index('Time')"
   ]
  },
  {
   "cell_type": "code",
   "execution_count": 99,
   "metadata": {
    "collapsed": true
   },
   "outputs": [],
   "source": [
    "df_features = df_temperature.resample('D').mean()\n",
    "df_features['maximum_temp'] = df_temperature.resample('D').max()\n",
    "df_features['minimum_temp'] = df_temperature.resample('D').min()\n",
    "df_features_energy = df_energy.resample('D').mean()\n",
    "df_features_energy['maximum_energy'] = df_energy.resample('D').max()\n",
    "df_features_energy['total_energy'] = df_energy.resample('D').sum()"
   ]
  },
  {
   "cell_type": "code",
   "execution_count": 100,
   "metadata": {},
   "outputs": [
    {
     "data": {
      "text/html": [
       "<div>\n",
       "<style>\n",
       "    .dataframe thead tr:only-child th {\n",
       "        text-align: right;\n",
       "    }\n",
       "\n",
       "    .dataframe thead th {\n",
       "        text-align: left;\n",
       "    }\n",
       "\n",
       "    .dataframe tbody tr th {\n",
       "        vertical-align: top;\n",
       "    }\n",
       "</style>\n",
       "<table border=\"1\" class=\"dataframe\">\n",
       "  <thead>\n",
       "    <tr style=\"text-align: right;\">\n",
       "      <th></th>\n",
       "      <th>temperature</th>\n",
       "      <th>maximum_temp</th>\n",
       "      <th>minimum_temp</th>\n",
       "      <th>Energy</th>\n",
       "      <th>maximum_energy</th>\n",
       "      <th>total_energy</th>\n",
       "    </tr>\n",
       "    <tr>\n",
       "      <th>timestamp</th>\n",
       "      <th></th>\n",
       "      <th></th>\n",
       "      <th></th>\n",
       "      <th></th>\n",
       "      <th></th>\n",
       "      <th></th>\n",
       "    </tr>\n",
       "  </thead>\n",
       "  <tbody>\n",
       "    <tr>\n",
       "      <th>2017-10-23</th>\n",
       "      <td>13.229464</td>\n",
       "      <td>15.1</td>\n",
       "      <td>11.3</td>\n",
       "      <td>8.444444</td>\n",
       "      <td>11</td>\n",
       "      <td>152</td>\n",
       "    </tr>\n",
       "    <tr>\n",
       "      <th>2017-10-24</th>\n",
       "      <td>15.043333</td>\n",
       "      <td>16.9</td>\n",
       "      <td>13.0</td>\n",
       "      <td>13.239583</td>\n",
       "      <td>24</td>\n",
       "      <td>1271</td>\n",
       "    </tr>\n",
       "    <tr>\n",
       "      <th>2017-10-25</th>\n",
       "      <td>14.662222</td>\n",
       "      <td>16.7</td>\n",
       "      <td>9.7</td>\n",
       "      <td>13.312500</td>\n",
       "      <td>22</td>\n",
       "      <td>1278</td>\n",
       "    </tr>\n",
       "    <tr>\n",
       "      <th>2017-10-26</th>\n",
       "      <td>14.000000</td>\n",
       "      <td>17.6</td>\n",
       "      <td>11.7</td>\n",
       "      <td>13.260417</td>\n",
       "      <td>22</td>\n",
       "      <td>1273</td>\n",
       "    </tr>\n",
       "    <tr>\n",
       "      <th>2017-10-27</th>\n",
       "      <td>11.470556</td>\n",
       "      <td>13.9</td>\n",
       "      <td>8.9</td>\n",
       "      <td>11.437500</td>\n",
       "      <td>21</td>\n",
       "      <td>1098</td>\n",
       "    </tr>\n",
       "  </tbody>\n",
       "</table>\n",
       "</div>"
      ],
      "text/plain": [
       "            temperature  maximum_temp  minimum_temp     Energy  \\\n",
       "timestamp                                                        \n",
       "2017-10-23    13.229464          15.1          11.3   8.444444   \n",
       "2017-10-24    15.043333          16.9          13.0  13.239583   \n",
       "2017-10-25    14.662222          16.7           9.7  13.312500   \n",
       "2017-10-26    14.000000          17.6          11.7  13.260417   \n",
       "2017-10-27    11.470556          13.9           8.9  11.437500   \n",
       "\n",
       "            maximum_energy  total_energy  \n",
       "timestamp                                 \n",
       "2017-10-23              11           152  \n",
       "2017-10-24              24          1271  \n",
       "2017-10-25              22          1278  \n",
       "2017-10-26              22          1273  \n",
       "2017-10-27              21          1098  "
      ]
     },
     "execution_count": 100,
     "metadata": {},
     "output_type": "execute_result"
    }
   ],
   "source": [
    "features = pd.concat([df_features, df_features_energy], axis=1)\n",
    "features.head()"
   ]
  },
  {
   "cell_type": "code",
   "execution_count": 105,
   "metadata": {},
   "outputs": [
    {
     "name": "stdout",
     "output_type": "stream",
     "text": [
      "temperature       0.366369\n",
      "maximum_temp      0.287585\n",
      "minimum_temp      0.365371\n",
      "Energy            0.703744\n",
      "maximum_energy    0.677275\n",
      "total_energy      0.618777\n",
      "dtype: float64\n"
     ]
    }
   ],
   "source": [
    "def df_autocorr(df, lag=7, axis=0):\n",
    "    return df.apply(lambda col: col.autocorr(lag), axis=axis)\n",
    "print df_autocorr(features)"
   ]
  },
  {
   "cell_type": "markdown",
   "metadata": {},
   "source": [
    "### Pearson correlation is for linearly related variables"
   ]
  },
  {
   "cell_type": "code",
   "execution_count": 102,
   "metadata": {},
   "outputs": [
    {
     "name": "stdout",
     "output_type": "stream",
     "text": [
      "NormaltestResult(statistic=masked_array(data = [0.07164115118179298 0.09529319844915315 0.2978407032582245\n",
      " 86.1722028838809 136.80445786481687 8.649773532344716],\n",
      "             mask = [False False False False False False],\n",
      "       fill_value = 1e+20)\n",
      ", pvalue=array([  9.64813389e-01,   9.53470685e-01,   8.61637740e-01,\n",
      "         1.94063517e-19,   1.96466915e-30,   1.32350487e-02]))\n"
     ]
    }
   ],
   "source": [
    "import scipy\n",
    "print scipy.stats.mstats.normaltest(features, axis=0)\n",
    "corr_matrix_pearson = features.corr(method='pearson')"
   ]
  },
  {
   "cell_type": "code",
   "execution_count": 103,
   "metadata": {},
   "outputs": [
    {
     "data": {
      "text/plain": [
       "'file://C:\\\\Users\\\\20177480\\\\Documents\\\\GitHub\\\\Heijmans - NMM\\\\modelling_and_simulation\\\\basic-heatmap.html'"
      ]
     },
     "execution_count": 103,
     "metadata": {},
     "output_type": "execute_result"
    }
   ],
   "source": [
    "from plotly.offline import download_plotlyjs, init_notebook_mode, plot, iplot\n",
    "import plotly.graph_objs as go\n",
    "\n",
    "trace = go.Heatmap(z=corr_matrix_pearson.values,\n",
    "                   x=['temperature', 'maximum_temp', 'minimum_temp', 'Energy', 'maximum_energy','total_energy'],\n",
    "                   y=['temperature', 'maximum_temp', 'minimum_temp', 'Energy', 'maximum_energy','total_energy'])\n",
    "data=[trace]\n",
    "\n",
    "fig = go.Figure(data=data)\n",
    "plot(fig, filename='basic-heatmap.html')"
   ]
  },
  {
   "cell_type": "code",
   "execution_count": 104,
   "metadata": {},
   "outputs": [
    {
     "name": "stdout",
     "output_type": "stream",
     "text": [
      "                temperature  maximum_temp  minimum_temp    Energy  \\\n",
      "temperature        1.000000      0.797527      0.828580  0.139490   \n",
      "maximum_temp       0.797527      1.000000      0.647418  0.126954   \n",
      "minimum_temp       0.828580      0.647418      1.000000  0.128807   \n",
      "Energy             0.139490      0.126954      0.128807  1.000000   \n",
      "maximum_energy    -0.010147      0.004526     -0.026257  0.694792   \n",
      "total_energy       0.136383      0.133751      0.118789  0.967718   \n",
      "\n",
      "                maximum_energy  total_energy  \n",
      "temperature          -0.010147      0.136383  \n",
      "maximum_temp          0.004526      0.133751  \n",
      "minimum_temp         -0.026257      0.118789  \n",
      "Energy                0.694792      0.967718  \n",
      "maximum_energy        1.000000      0.676669  \n",
      "total_energy          0.676669      1.000000  \n"
     ]
    }
   ],
   "source": [
    "corr_matrix_kendall = features.corr(method='kendall')\n",
    "print corr_matrix_kendall"
   ]
  },
  {
   "cell_type": "code",
   "execution_count": 52,
   "metadata": {
    "collapsed": true
   },
   "outputs": [],
   "source": [
    "corr_matrix_spearman = features.corr(method='spearman')"
   ]
  },
  {
   "cell_type": "code",
   "execution_count": 53,
   "metadata": {},
   "outputs": [
    {
     "data": {
      "text/plain": [
       "'file://C:\\\\Users\\\\20177480\\\\Documents\\\\GitHub\\\\Heijmans - NMM\\\\modelling_and_simulation\\\\basic-heatmap.html'"
      ]
     },
     "execution_count": 53,
     "metadata": {},
     "output_type": "execute_result"
    }
   ],
   "source": [
    "from plotly.offline import download_plotlyjs, init_notebook_mode, plot, iplot\n",
    "import plotly.graph_objs as go\n",
    "\n",
    "trace = go.Heatmap(z=corr_matrix_spearman.values,\n",
    "                   x=['temperature', 'maximum_temp', 'minimum_temp', 'Energy', 'maximum_energy','minimum_energy','total_energy'],\n",
    "                   y=['temperature', 'maximum_temp', 'minimum_temp', 'Energy', 'maximum_energy','minimum_energy','total_energy'])\n",
    "data=[trace]\n",
    "\n",
    "fig = go.Figure(data=data)\n",
    "plot(fig, filename='basic-heatmap.html')"
   ]
  }
 ],
 "metadata": {
  "kernelspec": {
   "display_name": "Python 2",
   "language": "python",
   "name": "python2"
  },
  "language_info": {
   "codemirror_mode": {
    "name": "ipython",
    "version": 2
   },
   "file_extension": ".py",
   "mimetype": "text/x-python",
   "name": "python",
   "nbconvert_exporter": "python",
   "pygments_lexer": "ipython2",
   "version": "2.7.14"
  }
 },
 "nbformat": 4,
 "nbformat_minor": 2
}
