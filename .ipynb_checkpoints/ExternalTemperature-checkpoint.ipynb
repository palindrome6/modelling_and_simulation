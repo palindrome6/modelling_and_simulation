{
 "cells": [
  {
   "cell_type": "code",
   "execution_count": 59,
   "metadata": {
    "collapsed": true
   },
   "outputs": [],
   "source": [
    "import pandas as pd\n",
    "from plotly.offline import download_plotlyjs, init_notebook_mode, plot, iplot\n",
    "import plotly.graph_objs as go\n",
    "import numpy as np\n",
    "\n",
    "path_weather = r'C:\\Users\\20177480\\Desktop\\Case Studies\\Heijmans Infra (Modeling and Simulation)\\Data\\Weather.xlsx'\n",
    "df=pd.read_excel(path_weather)\n",
    "df['timestamp'] = pd.to_datetime(df['timestamp'], format=\"%d-%m-%Y %H:%M.%S\")\n",
    "df = df[df['timestamp']>'23-10-2017 09:00:00']\n",
    "df = df.set_index('timestamp')\n",
    "df_daily_mean = df.resample('D').mean()\n",
    "del df['humidity']\n",
    "df['datetime1'] = df.index"
   ]
  },
  {
   "cell_type": "markdown",
   "metadata": {},
   "source": [
    "## Detrend the signal (x-x' where x' is the daily mean)"
   ]
  },
  {
   "cell_type": "code",
   "execution_count": 60,
   "metadata": {
    "collapsed": true
   },
   "outputs": [],
   "source": [
    "def detrend(r):\n",
    "    temp = r['temperature']\n",
    "    index = r['datetime1']\n",
    "    date_1 = index.date()\n",
    "    baseline = df_daily_mean[df_daily_mean['datevalue']==date_1]['temperature'].values[0]\n",
    "    corrected_temp = temp - baseline\n",
    "    return corrected_temp\n",
    "\n",
    "df_daily_mean['datevalue'] = df_daily_mean.index\n",
    "df['temperature_detrend'] = df.apply(detrend,axis=1)"
   ]
  },
  {
   "cell_type": "markdown",
   "metadata": {},
   "source": [
    "## Get Features of ambient temperature"
   ]
  },
  {
   "cell_type": "code",
   "execution_count": 61,
   "metadata": {
    "collapsed": true
   },
   "outputs": [],
   "source": [
    "df_temperature = df[['temperature']]\n",
    "df_features['average'] = df_temperature.resample('D').mean()\n",
    "df_features['maximum'] = df_temperature.resample('D').max()\n",
    "df_features['minimum'] = df_temperature.resample('D').min()"
   ]
  },
  {
   "cell_type": "markdown",
   "metadata": {},
   "source": [
    "## FFT of x-x' "
   ]
  },
  {
   "cell_type": "code",
   "execution_count": 74,
   "metadata": {
    "collapsed": true
   },
   "outputs": [],
   "source": [
    "from scipy.fftpack import fft, ifft\n",
    "from scipy import fft, arange, signal\n",
    "from plotly import tools\n",
    "\n",
    "#temperature_fft = df['temperature_detrend'].values\n",
    "temperature_fft = df_features['average'].values\n",
    "fs = 1 # samples per day\n",
    "t = arange(len(temperature_fft))/float(fs) + 1\n",
    "f, Pxx = signal.periodogram(temperature_fft, fs = fs)\n",
    "fft_signal= fft(temperature_fft)"
   ]
  },
  {
   "cell_type": "markdown",
   "metadata": {},
   "source": [
    "## Plot"
   ]
  },
  {
   "cell_type": "code",
   "execution_count": 79,
   "metadata": {},
   "outputs": [
    {
     "name": "stdout",
     "output_type": "stream",
     "text": [
      "This is the format of your plot grid:\n",
      "[ (1,1) x1,y1 ]\n",
      "[ (2,1) x2,y2 ]\n",
      "\n"
     ]
    },
    {
     "data": {
      "text/plain": [
       "'file://C:\\\\Users\\\\20177480\\\\temp-plot.html'"
      ]
     },
     "execution_count": 79,
     "metadata": {},
     "output_type": "execute_result"
    }
   ],
   "source": [
    "trace01 = go.Scatter(\n",
    "    x=df['datetime1'],\n",
    "    y=df['temperature']\n",
    ")\n",
    "trace02 = go.Scatter(\n",
    "    x=df_features.index,\n",
    "    y=df_features['maximum']\n",
    ")\n",
    "trace03 = go.Scatter(\n",
    "    x=df_features.index,\n",
    "    y=df_features['average']\n",
    ")\n",
    "trace04 = go.Scatter(\n",
    "    x=df_features.index,\n",
    "    y=df_features['minimum']\n",
    ")\n",
    "trace2 = go.Scatter(\n",
    "    x=f,\n",
    "    y=Pxx,\n",
    "    xaxis='x3',\n",
    "    yaxis='y3'\n",
    ")\n",
    "fig = tools.make_subplots(rows=2, cols=1, subplot_titles=('Temperature - Daily Average','FFT - Detrend Signal'))\n",
    "fig.append_trace(trace01, 1, 1)\n",
    "fig.append_trace(trace02, 1, 1)\n",
    "fig.append_trace(trace03, 1, 1)\n",
    "fig.append_trace(trace04, 1, 1)\n",
    "fig.append_trace(trace2, 2, 1)\n",
    "fig['layout'].update(height=700, width=1600)\n",
    "plot(fig)"
   ]
  }
 ],
 "metadata": {
  "kernelspec": {
   "display_name": "Python 2",
   "language": "python",
   "name": "python2"
  },
  "language_info": {
   "codemirror_mode": {
    "name": "ipython",
    "version": 2
   },
   "file_extension": ".py",
   "mimetype": "text/x-python",
   "name": "python",
   "nbconvert_exporter": "python",
   "pygments_lexer": "ipython2",
   "version": "2.7.14"
  }
 },
 "nbformat": 4,
 "nbformat_minor": 2
}
