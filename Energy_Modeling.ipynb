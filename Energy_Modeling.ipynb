{
 "cells": [
  {
   "cell_type": "code",
   "execution_count": 1,
   "metadata": {
    "collapsed": true
   },
   "outputs": [],
   "source": [
    "import pandas as pd\n",
    "\n",
    "path_energy = r'/Users/parvathykrishnank/Dropbox/modelling_and_simulation/Data/Energydata.xlsx'\n",
    "\n",
    "# Energy consumption\n",
    "df_energy =pd.read_excel(path_energy)\n",
    "df_energy['Time'] = pd.to_datetime(df_energy['Time'], format=\"%d-%m-%Y %H:%M.%S\")\n",
    "df_energy['Energy(kWh)'] = df_energy['Energy kWh']\n",
    "del df_energy['Energy kWh']\n",
    "\n",
    "df_energy = df_energy[df_energy['Time']>='23-10-2017 00:00:00']\n",
    "df_energy = df_energy.set_index('Time')\n",
    "\n",
    "df_daily_mean = df_energy.resample('D').mean()\n",
    "df_weekly_mean = df_daily_mean.resample('7D').mean()"
   ]
  },
  {
   "cell_type": "code",
   "execution_count": 2,
   "metadata": {
    "collapsed": true
   },
   "outputs": [],
   "source": [
    "df_energy['datetime1'] = df_energy.index\n",
    "\n",
    "def getdailymean(r):\n",
    "    temp = r['Energy(kWh)']\n",
    "    index = r['datetime1']\n",
    "    date_1 = index.date()\n",
    "    baseline = df_daily_mean[df_daily_mean['datevalue']==date_1]['Energy(kWh)'].values[0]\n",
    "    return baseline\n",
    "\n",
    "df_daily_mean['datevalue'] = df_daily_mean.index\n",
    "df_energy['daily_mean'] = df_energy.apply(getdailymean,axis=1)"
   ]
  },
  {
   "cell_type": "code",
   "execution_count": 3,
   "metadata": {
    "collapsed": true
   },
   "outputs": [],
   "source": [
    "def getweeklymean(r):\n",
    "    temp = r['Energy(kWh)']\n",
    "    index = r['datetime1']\n",
    "    date_1 = index.date()\n",
    "    week_data = df_weekly_mean[df_weekly_mean['datevalue']==date_1]\n",
    "    \n",
    "    if week_data.empty:\n",
    "        week_data = df_weekly_mean[df_weekly_mean['datevalue']==(date_1-pd.DateOffset(3))]\n",
    "        baseline = week_data['Energy(kWh)'].values[0]\n",
    "        return baseline\n",
    "    \n",
    "    else: \n",
    "        baseline = week_data['Energy(kWh)'].values[0]\n",
    "        return baseline\n",
    "\n",
    "df_weekly_mean = df_weekly_mean.resample('D').ffill()\n",
    "df_weekly_mean['datevalue'] = df_weekly_mean.index\n",
    "df_energy['weekly_mean'] = df_energy.apply(getweeklymean,axis=1)\n",
    "df_energy['Energy(daily_corr)'] = (df_energy['Energy(kWh)']-df_energy['daily_mean'])/df_energy['daily_mean']\n",
    "df_energy['Energy(weekly_corr)'] = (df_energy['Energy(kWh)']-df_energy['weekly_mean'])/df_energy['weekly_mean']\n",
    "df_energy['Energy(week_daily)'] = (df_energy['Energy(kWh)']-df_energy['daily_mean']-df_energy['weekly_mean'])\n",
    "del df_energy['datetime1']"
   ]
  },
  {
   "cell_type": "code",
   "execution_count": 4,
   "metadata": {},
   "outputs": [
    {
     "data": {
      "text/html": [
       "<div>\n",
       "<style>\n",
       "    .dataframe thead tr:only-child th {\n",
       "        text-align: right;\n",
       "    }\n",
       "\n",
       "    .dataframe thead th {\n",
       "        text-align: left;\n",
       "    }\n",
       "\n",
       "    .dataframe tbody tr th {\n",
       "        vertical-align: top;\n",
       "    }\n",
       "</style>\n",
       "<table border=\"1\" class=\"dataframe\">\n",
       "  <thead>\n",
       "    <tr style=\"text-align: right;\">\n",
       "      <th></th>\n",
       "      <th>Energy(kWh)</th>\n",
       "      <th>daily_mean</th>\n",
       "      <th>weekly_mean</th>\n",
       "      <th>Energy(daily_corr)</th>\n",
       "      <th>Energy(weekly_corr)</th>\n",
       "      <th>Energy(week_daily)</th>\n",
       "    </tr>\n",
       "    <tr>\n",
       "      <th>Time</th>\n",
       "      <th></th>\n",
       "      <th></th>\n",
       "      <th></th>\n",
       "      <th></th>\n",
       "      <th></th>\n",
       "      <th></th>\n",
       "    </tr>\n",
       "  </thead>\n",
       "  <tbody>\n",
       "    <tr>\n",
       "      <th>2017-10-23 19:30:00</th>\n",
       "      <td>9</td>\n",
       "      <td>8.444444</td>\n",
       "      <td>10.919147</td>\n",
       "      <td>0.065789</td>\n",
       "      <td>-0.175760</td>\n",
       "      <td>-10.363591</td>\n",
       "    </tr>\n",
       "    <tr>\n",
       "      <th>2017-10-23 19:45:00</th>\n",
       "      <td>10</td>\n",
       "      <td>8.444444</td>\n",
       "      <td>10.919147</td>\n",
       "      <td>0.184211</td>\n",
       "      <td>-0.084178</td>\n",
       "      <td>-9.363591</td>\n",
       "    </tr>\n",
       "    <tr>\n",
       "      <th>2017-10-23 20:00:00</th>\n",
       "      <td>9</td>\n",
       "      <td>8.444444</td>\n",
       "      <td>10.919147</td>\n",
       "      <td>0.065789</td>\n",
       "      <td>-0.175760</td>\n",
       "      <td>-10.363591</td>\n",
       "    </tr>\n",
       "    <tr>\n",
       "      <th>2017-10-23 20:15:00</th>\n",
       "      <td>8</td>\n",
       "      <td>8.444444</td>\n",
       "      <td>10.919147</td>\n",
       "      <td>-0.052632</td>\n",
       "      <td>-0.267342</td>\n",
       "      <td>-11.363591</td>\n",
       "    </tr>\n",
       "    <tr>\n",
       "      <th>2017-10-23 20:30:00</th>\n",
       "      <td>8</td>\n",
       "      <td>8.444444</td>\n",
       "      <td>10.919147</td>\n",
       "      <td>-0.052632</td>\n",
       "      <td>-0.267342</td>\n",
       "      <td>-11.363591</td>\n",
       "    </tr>\n",
       "  </tbody>\n",
       "</table>\n",
       "</div>"
      ],
      "text/plain": [
       "                     Energy(kWh)  daily_mean  weekly_mean  Energy(daily_corr)  \\\n",
       "Time                                                                            \n",
       "2017-10-23 19:30:00            9    8.444444    10.919147            0.065789   \n",
       "2017-10-23 19:45:00           10    8.444444    10.919147            0.184211   \n",
       "2017-10-23 20:00:00            9    8.444444    10.919147            0.065789   \n",
       "2017-10-23 20:15:00            8    8.444444    10.919147           -0.052632   \n",
       "2017-10-23 20:30:00            8    8.444444    10.919147           -0.052632   \n",
       "\n",
       "                     Energy(weekly_corr)  Energy(week_daily)  \n",
       "Time                                                          \n",
       "2017-10-23 19:30:00            -0.175760          -10.363591  \n",
       "2017-10-23 19:45:00            -0.084178           -9.363591  \n",
       "2017-10-23 20:00:00            -0.175760          -10.363591  \n",
       "2017-10-23 20:15:00            -0.267342          -11.363591  \n",
       "2017-10-23 20:30:00            -0.267342          -11.363591  "
      ]
     },
     "execution_count": 4,
     "metadata": {},
     "output_type": "execute_result"
    }
   ],
   "source": [
    "df = df_energy.resample('15T').mean()\n",
    "df.head()"
   ]
  },
  {
   "cell_type": "code",
   "execution_count": 5,
   "metadata": {},
   "outputs": [
    {
     "data": {
      "text/plain": [
       "count    13030.000000\n",
       "mean        10.586646\n",
       "std          2.139248\n",
       "min          6.750000\n",
       "25%          8.437500\n",
       "50%         11.385417\n",
       "75%         12.250000\n",
       "max         14.583333\n",
       "Name: daily_mean, dtype: float64"
      ]
     },
     "execution_count": 5,
     "metadata": {},
     "output_type": "execute_result"
    }
   ],
   "source": [
    "df['daily_mean'].describe()"
   ]
  },
  {
   "cell_type": "code",
   "execution_count": 6,
   "metadata": {},
   "outputs": [
    {
     "data": {
      "text/plain": [
       "count    13030.000000\n",
       "mean        10.548014\n",
       "std          0.673507\n",
       "min          8.177083\n",
       "25%         10.313988\n",
       "50%         10.657738\n",
       "75%         11.002976\n",
       "max         11.982171\n",
       "Name: weekly_mean, dtype: float64"
      ]
     },
     "execution_count": 6,
     "metadata": {},
     "output_type": "execute_result"
    }
   ],
   "source": [
    "df['weekly_mean'].describe()"
   ]
  },
  {
   "cell_type": "code",
   "execution_count": 7,
   "metadata": {},
   "outputs": [
    {
     "name": "stderr",
     "output_type": "stream",
     "text": [
      "/anaconda2/lib/python2.7/site-packages/plotly/offline/offline.py:459: UserWarning:\n",
      "\n",
      "Your filename `Energy(kWh)` didn't end with .html. Adding .html to the end of your file.\n",
      "\n"
     ]
    },
    {
     "data": {
      "text/plain": [
       "'file:///Users/parvathykrishnank/Dropbox/modelling_and_simulation/Energy(kWh).html'"
      ]
     },
     "execution_count": 7,
     "metadata": {},
     "output_type": "execute_result"
    }
   ],
   "source": [
    "from plotly.offline import download_plotlyjs, init_notebook_mode, plot, iplot\n",
    "import plotly.graph_objs as go\n",
    "\n",
    "# Create a trace\n",
    "trace = go.Scatter(\n",
    "    x = df.index,\n",
    "    y = df['Energy(kWh)'],\n",
    "    name = 'Energy'\n",
    ")\n",
    "\n",
    "trace1 = go.Scatter(\n",
    "    x = df.index,\n",
    "    y = df['daily_mean'],\n",
    "    name = 'Daily average'\n",
    ")\n",
    "\n",
    "trace2 = go.Scatter(\n",
    "    x = df.index,\n",
    "    y = df['weekly_mean'],\n",
    "    name = 'Weekly average'\n",
    ")\n",
    "\n",
    "data = [trace, trace1, trace2]\n",
    "\n",
    "layout = go.Layout(\n",
    "    title='Energy',\n",
    "    xaxis=dict(\n",
    "        title='Date',\n",
    "    ),\n",
    "    yaxis=dict(\n",
    "        title='Energy (kWh)',\n",
    "    )\n",
    ")\n",
    "\n",
    "fig = go.Figure(data=data, layout=layout)\n",
    "# Plot and embed in ipython notebook!\n",
    "plot(fig, filename='Energy(kWh)')"
   ]
  },
  {
   "cell_type": "code",
   "execution_count": 8,
   "metadata": {},
   "outputs": [
    {
     "name": "stderr",
     "output_type": "stream",
     "text": [
      "/anaconda2/lib/python2.7/site-packages/statsmodels/compat/pandas.py:56: FutureWarning:\n",
      "\n",
      "The pandas.core.datetools module is deprecated and will be removed in a future version. Please use the pandas.tseries module instead.\n",
      "\n"
     ]
    },
    {
     "data": {
      "image/png": "[encoded data removed]",
      "text/plain": [
       "<matplotlib.figure.Figure at 0x1b19237a50>"
      ]
     },
     "metadata": {},
     "output_type": "display_data"
    },
    {
     "data": {
      "text/plain": [
       "'file:///Users/parvathykrishnank/Dropbox/modelling_and_simulation/temp-plot.html'"
      ]
     },
     "execution_count": 8,
     "metadata": {},
     "output_type": "execute_result"
    }
   ],
   "source": [
    "from matplotlib import pyplot\n",
    "from statsmodels.tsa.seasonal import seasonal_decompose\n",
    "from plotly.offline import plot_mpl\n",
    "\n",
    "result = seasonal_decompose(df['Energy(week_daily)'], freq=(24*60*7)/15,model='additive')\n",
    "r1 = result.plot()\n",
    "pyplot.show()\n",
    "plot_mpl(r1)"
   ]
  },
  {
   "cell_type": "code",
   "execution_count": 9,
   "metadata": {},
   "outputs": [
    {
     "data": {
      "text/plain": [
       "'file:///Users/parvathykrishnank/Dropbox/modelling_and_simulation/Energy(kWh).html'"
      ]
     },
     "execution_count": 9,
     "metadata": {},
     "output_type": "execute_result"
    }
   ],
   "source": [
    "from plotly.offline import download_plotlyjs, init_notebook_mode, plot, iplot\n",
    "import plotly.graph_objs as go\n",
    "\n",
    "# Create a trace\n",
    "trace = go.Scatter(\n",
    "    x = df.index,\n",
    "    y = df['Energy(week_daily)'],\n",
    "    name = 'Energy'\n",
    ")\n",
    "\n",
    "data = [trace]\n",
    "\n",
    "layout = go.Layout(\n",
    "    title='Energy',\n",
    "    xaxis=dict(\n",
    "        title='Date',\n",
    "    ),\n",
    "    yaxis=dict(\n",
    "        title='Energy (kWh)',\n",
    "    )\n",
    ")\n",
    "\n",
    "fig = go.Figure(data=data, layout=layout)\n",
    "# Plot and embed in ipython notebook!\n",
    "plot(fig, filename='Energy(kWh)')"
   ]
  },
  {
   "cell_type": "code",
   "execution_count": 10,
   "metadata": {
    "collapsed": true
   },
   "outputs": [],
   "source": [
    "df_sub_lag = df['Energy(week_daily)'].diff(periods=1)\n",
    "df_sub_lag = df_sub_lag.fillna(0)"
   ]
  },
  {
   "cell_type": "code",
   "execution_count": 11,
   "metadata": {},
   "outputs": [
    {
     "data": {
      "text/plain": [
       "Time\n",
       "2017-10-23 19:30:00    0.0\n",
       "2017-10-23 19:45:00    1.0\n",
       "2017-10-23 20:00:00   -1.0\n",
       "2017-10-23 20:15:00   -1.0\n",
       "2017-10-23 20:30:00    0.0\n",
       "Freq: 15T, Name: Energy(week_daily), dtype: float64"
      ]
     },
     "execution_count": 11,
     "metadata": {},
     "output_type": "execute_result"
    }
   ],
   "source": [
    "df_sub_lag.head()"
   ]
  },
  {
   "cell_type": "code",
   "execution_count": 12,
   "metadata": {},
   "outputs": [
    {
     "data": {
      "text/plain": [
       "'file:///Users/parvathykrishnank/Dropbox/modelling_and_simulation/Energy(kWh).html'"
      ]
     },
     "execution_count": 12,
     "metadata": {},
     "output_type": "execute_result"
    }
   ],
   "source": [
    "from plotly.offline import download_plotlyjs, init_notebook_mode, plot, iplot\n",
    "import plotly.graph_objs as go\n",
    "\n",
    "# Create a trace\n",
    "trace = go.Scatter(\n",
    "    x = df_sub_lag.index,\n",
    "    y = df_sub_lag,\n",
    "    name = 'Energy'\n",
    ")\n",
    "\n",
    "\n",
    "data = [trace]\n",
    "\n",
    "layout = go.Layout(\n",
    "    title='Energy',\n",
    "    xaxis=dict(\n",
    "        title='Date',\n",
    "    ),\n",
    "    yaxis=dict(\n",
    "        title='Energy (kWh)',\n",
    "    )\n",
    ")\n",
    "\n",
    "fig = go.Figure(data=data, layout=layout)\n",
    "# Plot and embed in ipython notebook!\n",
    "plot(fig, filename='Energy(kWh)')"
   ]
  },
  {
   "cell_type": "code",
   "execution_count": 13,
   "metadata": {
    "collapsed": true
   },
   "outputs": [],
   "source": [
    "path_ticketing = r'/Users/parvathykrishnank/Dropbox/modelling_and_simulation/Data/tickets.csv'\n",
    "df_tickets =pd.read_csv(path_ticketing)"
   ]
  },
  {
   "cell_type": "code",
   "execution_count": 14,
   "metadata": {
    "collapsed": true
   },
   "outputs": [],
   "source": [
    "df_tickets['Time'] = pd.to_datetime(df_tickets['period ending'], format=\"%Y-%m-%d %H:%M:%S\")\n",
    "del df_tickets['period ending']"
   ]
  },
  {
   "cell_type": "code",
   "execution_count": 15,
   "metadata": {},
   "outputs": [
    {
     "data": {
      "text/html": [
       "<div>\n",
       "<style>\n",
       "    .dataframe thead tr:only-child th {\n",
       "        text-align: right;\n",
       "    }\n",
       "\n",
       "    .dataframe thead th {\n",
       "        text-align: left;\n",
       "    }\n",
       "\n",
       "    .dataframe tbody tr th {\n",
       "        vertical-align: top;\n",
       "    }\n",
       "</style>\n",
       "<table border=\"1\" class=\"dataframe\">\n",
       "  <thead>\n",
       "    <tr style=\"text-align: right;\">\n",
       "      <th></th>\n",
       "      <th>visitors</th>\n",
       "    </tr>\n",
       "    <tr>\n",
       "      <th>Time</th>\n",
       "      <th></th>\n",
       "    </tr>\n",
       "  </thead>\n",
       "  <tbody>\n",
       "    <tr>\n",
       "      <th>2017-10-23 09:00:00</th>\n",
       "      <td>0</td>\n",
       "    </tr>\n",
       "    <tr>\n",
       "      <th>2017-10-23 09:08:00</th>\n",
       "      <td>0</td>\n",
       "    </tr>\n",
       "    <tr>\n",
       "      <th>2017-10-23 09:16:00</th>\n",
       "      <td>0</td>\n",
       "    </tr>\n",
       "    <tr>\n",
       "      <th>2017-10-23 09:24:00</th>\n",
       "      <td>0</td>\n",
       "    </tr>\n",
       "    <tr>\n",
       "      <th>2017-10-23 09:32:00</th>\n",
       "      <td>0</td>\n",
       "    </tr>\n",
       "  </tbody>\n",
       "</table>\n",
       "</div>"
      ],
      "text/plain": [
       "                     visitors\n",
       "Time                         \n",
       "2017-10-23 09:00:00         0\n",
       "2017-10-23 09:08:00         0\n",
       "2017-10-23 09:16:00         0\n",
       "2017-10-23 09:24:00         0\n",
       "2017-10-23 09:32:00         0"
      ]
     },
     "execution_count": 15,
     "metadata": {},
     "output_type": "execute_result"
    }
   ],
   "source": [
    "df_tickets = df_tickets[df_tickets['Time']>='2017-10-23 00:00:00']\n",
    "df_tickets = df_tickets.set_index('Time')\n",
    "df_tickets.head()"
   ]
  },
  {
   "cell_type": "code",
   "execution_count": 17,
   "metadata": {
    "collapsed": true
   },
   "outputs": [],
   "source": [
    "tickets_daily = df_tickets.resample('15T').ffill()"
   ]
  },
  {
   "cell_type": "code",
   "execution_count": 18,
   "metadata": {},
   "outputs": [
    {
     "data": {
      "text/html": [
       "<div>\n",
       "<style>\n",
       "    .dataframe thead tr:only-child th {\n",
       "        text-align: right;\n",
       "    }\n",
       "\n",
       "    .dataframe thead th {\n",
       "        text-align: left;\n",
       "    }\n",
       "\n",
       "    .dataframe tbody tr th {\n",
       "        vertical-align: top;\n",
       "    }\n",
       "</style>\n",
       "<table border=\"1\" class=\"dataframe\">\n",
       "  <thead>\n",
       "    <tr style=\"text-align: right;\">\n",
       "      <th></th>\n",
       "      <th>visitors</th>\n",
       "      <th>corrected</th>\n",
       "    </tr>\n",
       "    <tr>\n",
       "      <th>Time</th>\n",
       "      <th></th>\n",
       "      <th></th>\n",
       "    </tr>\n",
       "  </thead>\n",
       "  <tbody>\n",
       "    <tr>\n",
       "      <th>2017-10-23 09:00:00</th>\n",
       "      <td>0</td>\n",
       "      <td>-3.14909</td>\n",
       "    </tr>\n",
       "    <tr>\n",
       "      <th>2017-10-23 09:15:00</th>\n",
       "      <td>0</td>\n",
       "      <td>-3.14909</td>\n",
       "    </tr>\n",
       "    <tr>\n",
       "      <th>2017-10-23 09:30:00</th>\n",
       "      <td>0</td>\n",
       "      <td>-3.14909</td>\n",
       "    </tr>\n",
       "    <tr>\n",
       "      <th>2017-10-23 09:45:00</th>\n",
       "      <td>0</td>\n",
       "      <td>-3.14909</td>\n",
       "    </tr>\n",
       "    <tr>\n",
       "      <th>2017-10-23 10:00:00</th>\n",
       "      <td>0</td>\n",
       "      <td>-3.14909</td>\n",
       "    </tr>\n",
       "  </tbody>\n",
       "</table>\n",
       "</div>"
      ],
      "text/plain": [
       "                     visitors  corrected\n",
       "Time                                    \n",
       "2017-10-23 09:00:00         0   -3.14909\n",
       "2017-10-23 09:15:00         0   -3.14909\n",
       "2017-10-23 09:30:00         0   -3.14909\n",
       "2017-10-23 09:45:00         0   -3.14909\n",
       "2017-10-23 10:00:00         0   -3.14909"
      ]
     },
     "execution_count": 18,
     "metadata": {},
     "output_type": "execute_result"
    }
   ],
   "source": [
    "tickets_daily['corrected'] = tickets_daily - tickets_daily.mean()\n",
    "tickets_daily.head()"
   ]
  },
  {
   "cell_type": "code",
   "execution_count": 19,
   "metadata": {
    "collapsed": true
   },
   "outputs": [],
   "source": [
    "path_weather = r'/Users/parvathykrishnank/Dropbox/modelling_and_simulation/Data/Weather.xlsx'\n",
    "\n",
    "# External Temperature\n",
    "df_temperature =pd.read_excel(path_weather)\n",
    "df_temperature['Time'] = pd.to_datetime(df_temperature['timestamp'], format=\"%d-%m-%Y %H:%M.%S\")\n",
    "del df_temperature['humidity']\n",
    "df_temperature = df_temperature[df_temperature['timestamp']>='23-10-2017 00:00:00']\n",
    "del df_temperature['timestamp']\n",
    "df_temperature = df_temperature.set_index('Time')"
   ]
  },
  {
   "cell_type": "code",
   "execution_count": 20,
   "metadata": {
    "collapsed": true
   },
   "outputs": [],
   "source": [
    "temp_daily_mean = df_temperature.resample('D').mean()\n",
    "temp_weekly_mean = temp_daily_mean.resample('7D').mean()"
   ]
  },
  {
   "cell_type": "code",
   "execution_count": 21,
   "metadata": {
    "collapsed": true
   },
   "outputs": [],
   "source": [
    "df_temperature['datetime1'] = df_temperature.index\n",
    "\n",
    "def getdailymean(r):\n",
    "    temp = r['temperature']\n",
    "    index = r['datetime1']\n",
    "    date_1 = index.date()\n",
    "    baseline = temp_daily_mean[temp_daily_mean['datevalue']==date_1]['temperature'].values[0]\n",
    "    return baseline\n",
    "\n",
    "temp_daily_mean['datevalue'] = temp_daily_mean.index\n",
    "df_temperature['daily_mean'] = df_temperature.apply(getdailymean,axis=1)"
   ]
  },
  {
   "cell_type": "code",
   "execution_count": 22,
   "metadata": {
    "collapsed": true
   },
   "outputs": [],
   "source": [
    "def getweeklymean(r):\n",
    "    temp = r['temperature']\n",
    "    index = r['datetime1']\n",
    "    date_1 = index.date()\n",
    "    week_data = temp_weekly_mean[temp_weekly_mean['datevalue']==date_1]\n",
    "    if week_data.empty:\n",
    "        week_data = temp_weekly_mean[temp_weekly_mean['datevalue']==(date_1-pd.DateOffset(3))]\n",
    "        baseline = week_data['temperature'].values[0]\n",
    "        return baseline\n",
    "    \n",
    "    else: \n",
    "        baseline = week_data['temperature'].values[0]\n",
    "        return baseline\n",
    "\n",
    "temp_weekly_mean = temp_weekly_mean.resample('D').ffill()\n",
    "temp_weekly_mean['datevalue'] = temp_weekly_mean.index\n",
    "df_temperature['weekly_mean'] = df_temperature.apply(getweeklymean,axis=1)\n",
    "df_temperature['Temp(daily_corr)'] = df_temperature['temperature']-df_temperature['daily_mean']\n",
    "df_temperature['Temp(weekly_corr)'] = (df_temperature['temperature']-df_temperature['weekly_mean'])/df_temperature['weekly_mean']\n",
    "df_temperature['Temp(week_daily)'] = df_temperature['temperature']-df_temperature['daily_mean']-df_temperature['weekly_mean']\n",
    "del df_temperature['datetime1']"
   ]
  },
  {
   "cell_type": "code",
   "execution_count": 23,
   "metadata": {
    "collapsed": true
   },
   "outputs": [],
   "source": [
    "df_temperature = df_temperature.resample('15T').ffill()"
   ]
  },
  {
   "cell_type": "code",
   "execution_count": 24,
   "metadata": {
    "collapsed": true
   },
   "outputs": [],
   "source": [
    "tem_lag = df_temperature['Temp(week_daily)'].diff(periods=1)\n",
    "tem_lag = tem_lag.fillna(0)"
   ]
  },
  {
   "cell_type": "code",
   "execution_count": 25,
   "metadata": {},
   "outputs": [
    {
     "data": {
      "text/plain": [
       "'file:///Users/parvathykrishnank/Dropbox/modelling_and_simulation/Energy(kWh).html'"
      ]
     },
     "execution_count": 25,
     "metadata": {},
     "output_type": "execute_result"
    }
   ],
   "source": [
    "from plotly.offline import download_plotlyjs, init_notebook_mode, plot, iplot\n",
    "import plotly.graph_objs as go\n",
    "\n",
    "trace = go.Scatter(\n",
    "    x = df_sub_lag.index,\n",
    "    y = df_sub_lag,\n",
    "    name = 'Energy'\n",
    ")\n",
    "\n",
    "trace1 = go.Scatter(\n",
    "    x = tickets_daily.index,\n",
    "    y = tickets_daily['corrected'],\n",
    "    name = 'Tickets',\n",
    "    yaxis='y2'\n",
    ")\n",
    "\n",
    "trace2 = go.Scatter(\n",
    "    x = tem_lag.index,\n",
    "    y = tem_lag,\n",
    "    name = 'Temperature',\n",
    "    yaxis='y3'\n",
    ")\n",
    "\n",
    "data = [trace, trace1, trace2]\n",
    "\n",
    "layout = go.Layout(\n",
    "    title='Energy&Ticketing&Temperature',\n",
    "    xaxis=dict(\n",
    "        title='Date',\n",
    "    ),\n",
    "    yaxis=dict(\n",
    "        title='Energy (kWh)',\n",
    "    ),\n",
    "    yaxis2=dict(\n",
    "    overlaying = 'y',\n",
    "    side = 'right'\n",
    "    ),\n",
    "    yaxis3=dict(\n",
    "    overlaying = 'y',\n",
    "    side = 'right'\n",
    "    )\n",
    ")\n",
    "\n",
    "fig = go.Figure(data=data, layout=layout)\n",
    "# Plot and embed in ipython notebook!\n",
    "plot(fig, filename='Energy(kWh)')"
   ]
  },
  {
   "cell_type": "code",
   "execution_count": 26,
   "metadata": {
    "collapsed": true
   },
   "outputs": [],
   "source": [
    "df = pd.concat([df_sub_lag,tickets_daily,tem_lag],axis=1)\n",
    "del df['visitors']\n",
    "df['visitors'] = df['corrected']\n",
    "del df['corrected']"
   ]
  },
  {
   "cell_type": "code",
   "execution_count": 27,
   "metadata": {},
   "outputs": [
    {
     "data": {
      "text/html": [
       "<div>\n",
       "<style>\n",
       "    .dataframe thead tr:only-child th {\n",
       "        text-align: right;\n",
       "    }\n",
       "\n",
       "    .dataframe thead th {\n",
       "        text-align: left;\n",
       "    }\n",
       "\n",
       "    .dataframe tbody tr th {\n",
       "        vertical-align: top;\n",
       "    }\n",
       "</style>\n",
       "<table border=\"1\" class=\"dataframe\">\n",
       "  <thead>\n",
       "    <tr style=\"text-align: right;\">\n",
       "      <th></th>\n",
       "      <th>Energy(week_daily)</th>\n",
       "      <th>Temp(week_daily)</th>\n",
       "      <th>visitors</th>\n",
       "    </tr>\n",
       "  </thead>\n",
       "  <tbody>\n",
       "    <tr>\n",
       "      <th>Energy(week_daily)</th>\n",
       "      <td>1.000000</td>\n",
       "      <td>0.020550</td>\n",
       "      <td>0.015822</td>\n",
       "    </tr>\n",
       "    <tr>\n",
       "      <th>Temp(week_daily)</th>\n",
       "      <td>0.020550</td>\n",
       "      <td>1.000000</td>\n",
       "      <td>0.048345</td>\n",
       "    </tr>\n",
       "    <tr>\n",
       "      <th>visitors</th>\n",
       "      <td>0.015822</td>\n",
       "      <td>0.048345</td>\n",
       "      <td>1.000000</td>\n",
       "    </tr>\n",
       "  </tbody>\n",
       "</table>\n",
       "</div>"
      ],
      "text/plain": [
       "                    Energy(week_daily)  Temp(week_daily)  visitors\n",
       "Energy(week_daily)            1.000000          0.020550  0.015822\n",
       "Temp(week_daily)              0.020550          1.000000  0.048345\n",
       "visitors                      0.015822          0.048345  1.000000"
      ]
     },
     "execution_count": 27,
     "metadata": {},
     "output_type": "execute_result"
    }
   ],
   "source": [
    "correlation = df.corr()\n",
    "correlation"
   ]
  },
  {
   "cell_type": "code",
   "execution_count": 28,
   "metadata": {},
   "outputs": [
    {
     "name": "stdout",
     "output_type": "stream",
     "text": [
      "13074\n",
      "0.623884706573 13066\n"
     ]
    },
    {
     "name": "stderr",
     "output_type": "stream",
     "text": [
      "/anaconda2/lib/python2.7/site-packages/numpy/lib/function_base.py:3159: RuntimeWarning:\n",
      "\n",
      "Degrees of freedom <= 0 for slice\n",
      "\n",
      "/anaconda2/lib/python2.7/site-packages/numpy/lib/function_base.py:3093: RuntimeWarning:\n",
      "\n",
      "divide by zero encountered in double_scalars\n",
      "\n"
     ]
    }
   ],
   "source": [
    "print len(df)\n",
    "p = 0\n",
    "ind = 0\n",
    "\n",
    "for i in range(0,len(df)):\n",
    "    correlation = df['Energy(week_daily)'].corr(df['Temp(week_daily)'].shift(i))\n",
    "    if(correlation>p):\n",
    "        p = correlation\n",
    "        ind = i\n",
    "        \n",
    "print p,ind"
   ]
  },
  {
   "cell_type": "code",
   "execution_count": 29,
   "metadata": {},
   "outputs": [
    {
     "name": "stdout",
     "output_type": "stream",
     "text": [
      "0.673110014078 13061\n"
     ]
    }
   ],
   "source": [
    "p = 0\n",
    "ind = 0\n",
    "\n",
    "for i in range(0,len(df)):\n",
    "    correlation = df['Energy(week_daily)'].corr(df['visitors'].shift(i))\n",
    "    if(correlation>p):\n",
    "        p = correlation\n",
    "        ind = i\n",
    "        \n",
    "print p,ind"
   ]
  },
  {
   "cell_type": "code",
   "execution_count": 31,
   "metadata": {
    "collapsed": true
   },
   "outputs": [],
   "source": [
    "df['visitor_number'] = df['visitors'].shift(ind)"
   ]
  },
  {
   "cell_type": "markdown",
   "metadata": {},
   "source": [
    "1.7 HOURS"
   ]
  },
  {
   "cell_type": "code",
   "execution_count": 34,
   "metadata": {},
   "outputs": [
    {
     "data": {
      "text/html": [
       "<div>\n",
       "<style>\n",
       "    .dataframe thead tr:only-child th {\n",
       "        text-align: right;\n",
       "    }\n",
       "\n",
       "    .dataframe thead th {\n",
       "        text-align: left;\n",
       "    }\n",
       "\n",
       "    .dataframe tbody tr th {\n",
       "        vertical-align: top;\n",
       "    }\n",
       "</style>\n",
       "<table border=\"1\" class=\"dataframe\">\n",
       "  <thead>\n",
       "    <tr style=\"text-align: right;\">\n",
       "      <th></th>\n",
       "      <th>Energy(week_daily)</th>\n",
       "      <th>visitor_number</th>\n",
       "    </tr>\n",
       "  </thead>\n",
       "  <tbody>\n",
       "    <tr>\n",
       "      <th>Energy(week_daily)</th>\n",
       "      <td>1.00000</td>\n",
       "      <td>0.67311</td>\n",
       "    </tr>\n",
       "    <tr>\n",
       "      <th>visitor_number</th>\n",
       "      <td>0.67311</td>\n",
       "      <td>1.00000</td>\n",
       "    </tr>\n",
       "  </tbody>\n",
       "</table>\n",
       "</div>"
      ],
      "text/plain": [
       "                    Energy(week_daily)  visitor_number\n",
       "Energy(week_daily)             1.00000         0.67311\n",
       "visitor_number                 0.67311         1.00000"
      ]
     },
     "execution_count": 34,
     "metadata": {},
     "output_type": "execute_result"
    }
   ],
   "source": [
    "df_shifted = df[['Energy(week_daily)','visitor_number']]\n",
    "df_shifted.corr()"
   ]
  },
  {
   "cell_type": "code",
   "execution_count": null,
   "metadata": {
    "collapsed": true
   },
   "outputs": [],
   "source": []
  }
 ],
 "metadata": {
  "kernelspec": {
   "display_name": "Python 2",
   "language": "python",
   "name": "python2"
  },
  "language_info": {
   "codemirror_mode": {
    "name": "ipython",
    "version": 2
   },
   "file_extension": ".py",
   "mimetype": "text/x-python",
   "name": "python",
   "nbconvert_exporter": "python",
   "pygments_lexer": "ipython2",
   "version": "2.7.14"
  }
 },
 "nbformat": 4,
 "nbformat_minor": 2
}
